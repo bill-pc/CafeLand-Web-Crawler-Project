{
 "cells": [
  {
   "cell_type": "code",
   "execution_count": 25,
   "metadata": {},
   "outputs": [],
   "source": [
    "import pandas as pd\n",
    "import numpy as np\n",
    "from pyspark.sql import SparkSession"
   ]
  },
  {
   "cell_type": "code",
   "execution_count": 26,
   "metadata": {},
   "outputs": [],
   "source": [
    "# Khởi tạo SparkSession\n",
    "spark = SparkSession.builder \\\n",
    "    .appName(\"MongoDB and Postgres\") \\\n",
    "    .config(\"spark.jars.packages\", \"org.mongodb.spark:mongo-spark-connector_2.12:3.0.2,org.postgresql:postgresql:42.7.4\") \\\n",
    "    .config(\"spark.mongodb.input.uri\", \"mongodb://localhost:27017/dbmycrawler\") \\\n",
    "    .getOrCreate()"
   ]
  },
  {
   "cell_type": "code",
   "execution_count": 27,
   "metadata": {},
   "outputs": [
    {
     "name": "stdout",
     "output_type": "stream",
     "text": [
      "+--------------------+--------------+------------------+--------------------+----------+-----------+--------------------+-------------------------+--------------------+--------+--------------------+--------------------+\n",
      "|          Chủ đầu tư|Diện tích (m²)|        Loại dự án|               Mô tả| Ngày đăng| Trạng thái|           Tên dự án|Tổng vốn đầu tư (tỷ đồng)|              Vị trí|Xếp hạng|                 _id|               Đường|\n",
      "+--------------------+--------------+------------------+--------------------+----------+-----------+--------------------+-------------------------+--------------------+--------+--------------------+--------------------+\n",
      "|Công Ty Cổ Phần B...|        8200.0|     Đất Nền Dự Án|The Long Eyes là ...|2024-09-12|Đang mở bán|The Long Eyes: Dự...|                   275.46|Trảng Bom - Đồng Nai|     4.0|{6740756bc13e184e...|   đường Sông Thao 5|\n",
      "|Công ty Cổ phần Đ...|       33540.7|   Căn hộ chung cư|Golden City là că...|2024-09-25|Đang mở bán|Golden City: Dự á...|                   2200.0|TP. Tây Ninh - Tâ...|     1.2|{6740756bc13e184e...|số 6 đường Hồ Văn...|\n",
      "|Công ty TNHH MTV ...|       12389.0|   Căn hộ chung cư|Setia Gardens Res...|2024-09-13| Sắp mở bán|Setia Gardens Res...|                   416.18|TP.Thủ Đức - TP. ...|     0.0|{6740756bc13e184e...| Khu đô thị Eco Xuân|\n",
      "|Công ty Cổ phần T...|      305000.0|Nhà Phố - Biệt Thự|Sun Festival Aven...|2024-09-16|Đang mở bán|Dự án Sun Festiva...|                  10245.8|TP. Phú Quốc - Ki...|     3.1|{6740756bc13e184e...|        đảo Hòn Thơm|\n",
      "|Tập đoàn Vingroup...|       41778.0|Nhà Phố - Biệt Thự|Phân khu Miyabi l...|2024-09-18|Đang mở bán|Phân khu Miyabi –...|                  1403.44|Thủy Nguyên - Hải...|     4.8|{6740756bc13e184e...|    thuộc Đảo Vũ Yên|\n",
      "|Công ty cổ phần b...|       50850.0|   Căn hộ chung cư|Noble Crystal Tây...|2024-09-19|Đang mở bán|Dự án Noble Cryst...|                  12286.0|Quận Long Biên - ...|     2.6|{6740756bc13e184e...|         Lô đất CT01|\n",
      "|Công ty TNHH Bất ...|       23000.0|Nhà Phố - Biệt Thự|Cát Tường J-Home ...|2024-09-23|Đang mở bán|Cát Tường J-Home ...|                   772.63|TP. Thuận An - Bì...|     1.2|{6740756bc13e184e...|               DT743|\n",
      "|   Tập đoàn Sunshine|       27000.0|Nhà Phố - Biệt Thự|Noble Palace Long...|2024-09-24|Đang mở bán|Noble Palace Long...|                   3000.0|Quận Long Biên - ...|     4.0|{6740756bc13e184e...|    phường Việt Hưng|\n",
      "|   Tập đoàn Sunshine|       17000.0|   Căn hộ chung cư|Noble Crystal Lon...|2024-09-27|Đang mở bán|Dự án Noble Cryst...|                   8800.0|Quận Long Biên - ...|     3.9|{6740756bc13e184e...|đường Vũ Đức T...|\n",
      "|   Tập đoàn Sunshine|      101000.0|Nhà Phố - Biệt Thự|Noble Palace Tây ...|2024-09-27|Đang mở bán|Tổ hợp biệt thự, ...|                  3392.87|     Tây Hồ - Hà Nội|     1.4|{6740756bc13e184e...|khu đô thị Ciputr...|\n",
      "|Công ty Cổ phần Đ...|       14744.0|   Căn hộ chung cư|Phú Đông Sky Gard...|2024-09-11|Đang mở bán|Căn hộ Phú Đông S...|                   495.29|TP. Dĩ An - Bình ...|     4.1|{6740756bc13e184e...|       đường An Bình|\n",
      "|Công ty Cổ phần Đ...|        5615.0|   Căn hộ chung cư|Phú Đông Sky One ...|2024-09-11|Đang mở bán|Phú Đông Sky One:...|                   188.62|TP. Dĩ An - Bình ...|     2.5|{6740756bc13e184e...|       đường DT 743C|\n",
      "|Gamuda Land Việt Nam|       36800.0|   Căn hộ chung cư|Dự án tổ hợp căn ...|2024-09-11|Đang mở bán|Eaton Park: Dự án...|                  26000.0|TP.Thủ Đức - TP. ...|     2.0|{6740756bc13e184e...|  Đại lộ Mai Chí Thọ|\n",
      "|Công ty Cổ phần P...|     1014000.0|        Khu Đô Thị|LA Home có vị trí...|2024-09-11|Đang mở bán|LA Home: Dự án Kh...|                   2936.0| TP.Tân An - Long An|     1.9|{6740756bc13e184e...|             Bến Lức|\n",
      "|Công ty Cổ phần T...|       14187.8|   Căn hộ chung cư|Dự án HQC Tân Hươ...|2024-09-11|Đang mở bán|HQC Tân Hương: Dự...|                    530.0|Châu Thành - Tiền...|     4.3|{6740756bc13e184e...|         đường số 14|\n",
      "|Công ty TNHH Asia...|       21798.0|   Căn hộ chung cư|Nam Ô Discovery l...|2024-09-09|Đang mở bán|Nam Ô Discovery: ...|                   732.26|quận Liên Chiểu -...|     4.9|{6740756bc13e184e...|mặt tiền đường Ng...|\n",
      "|Công ty Cổ phần T...|       11000.0|Nhà Phố - Biệt Thự|The Lagom Phú Quố...|2024-08-23|Đang mở bán|The Lagom: Dự án ...|                   369.52|TP. Phú Quốc - Ki...|     4.3|{6740756bc13e184e...|Khu phức hợp du l...|\n",
      "|Công ty Cổ phần K...|        8660.0|        Khu Đô Thị|Uni Complex là dự...|2024-08-24| Sắp mở bán|Khu phố thương mạ...|                    631.0|TP. Thủ Dầu Một -...|     0.0|{6740756bc13e184e...|góc đường An Dươn...|\n",
      "|Công ty Cổ phần D...|       72600.0|        Khu Đô Thị|The Centric là tổ...|2024-09-12| Sắp mở bán|The Centric: Tổ h...|                   1323.0|Thủy Nguyên - Hải...|     0.0|{6740756bc13e184e...|       đường Đỗ Mười|\n",
      "|Công ty TNHH Syca...|       11000.0|   Căn hộ chung cư|The Orchard Hill ...|2024-09-05|Đang mở bán|The Orchard Hill:...|                   369.52|  Phú Mỹ - Hậu Giang|     3.1|{6740756bc13e184e...|mặt tiền đường Hù...|\n",
      "+--------------------+--------------+------------------+--------------------+----------+-----------+--------------------+-------------------------+--------------------+--------+--------------------+--------------------+\n",
      "only showing top 20 rows\n",
      "\n"
     ]
    }
   ],
   "source": [
    "#doc du lieu tu mongo\n",
    "df=spark.read.format(\"mongo\").option(\"collection\",\"tblcafeland\").load()\n",
    "#hien du lieu\n",
    "df.show() "
   ]
  },
  {
   "cell_type": "code",
   "execution_count": 28,
   "metadata": {},
   "outputs": [
    {
     "name": "stdout",
     "output_type": "stream",
     "text": [
      "root\n",
      " |-- Chủ đầu tư: string (nullable = true)\n",
      " |-- Diện tích (m²): double (nullable = true)\n",
      " |-- Loại dự án: string (nullable = true)\n",
      " |-- Mô tả: string (nullable = true)\n",
      " |-- Ngày đăng: string (nullable = true)\n",
      " |-- Trạng thái: string (nullable = true)\n",
      " |-- Tên dự án: string (nullable = true)\n",
      " |-- Tổng vốn đầu tư (tỷ đồng): double (nullable = true)\n",
      " |-- Vị trí: string (nullable = true)\n",
      " |-- Xếp hạng: double (nullable = true)\n",
      " |-- _id: struct (nullable = true)\n",
      " |    |-- oid: string (nullable = true)\n",
      " |-- Đường: string (nullable = true)\n",
      "\n"
     ]
    }
   ],
   "source": [
    "#Xem kiểu dl các cột\n",
    "df.printSchema()"
   ]
  },
  {
   "cell_type": "code",
   "execution_count": null,
   "metadata": {},
   "outputs": [],
   "source": [
    "from pyspark.sql import functions as F\n",
    "from pyspark.sql.functions import col\n",
    "#Xóa giá trị \"unknown\" và null trong tất cả các cột của DataFrame, bạn có thể làm như sau:\n",
    "columns = df.columns\n",
    "for column in columns:\n",
    "    df = df.filter(\n",
    "        (col(column).isNotNull()) & (col(column) != \"unknown\")\n",
    "    )\n",
    "df.show()\n"
   ]
  },
  {
   "cell_type": "code",
   "execution_count": 29,
   "metadata": {},
   "outputs": [],
   "source": [
    "from pyspark.sql.functions import col, regexp_replace\n",
    "# Loại bỏ chuỗi 'Cập nhật:' trong cột 'Ngày đăng'\n",
    "df = df.withColumn(\"Ngày đăng\", regexp_replace(col(\"Ngày đăng\"), \"Cập nhật:\", \"\"))"
   ]
  },
  {
   "cell_type": "code",
   "execution_count": 30,
   "metadata": {},
   "outputs": [
    {
     "name": "stdout",
     "output_type": "stream",
     "text": [
      "+--------------------+--------------+------------------+--------------------+----------+-----------+--------------------+-------------------------+--------------------+--------+--------------------+--------------------+\n",
      "|          Chủ đầu tư|Diện tích (m²)|        Loại dự án|               Mô tả| Ngày đăng| Trạng thái|           Tên dự án|Tổng vốn đầu tư (tỷ đồng)|              Vị trí|Xếp hạng|                 _id|               Đường|\n",
      "+--------------------+--------------+------------------+--------------------+----------+-----------+--------------------+-------------------------+--------------------+--------+--------------------+--------------------+\n",
      "|Công Ty Cổ Phần B...|        8200.0|     Đất Nền Dự Án|The Long Eyes là ...|2024-09-12|Đang mở bán|The Long Eyes: Dự...|                   275.46|Trảng Bom - Đồng Nai|     4.0|{6740756bc13e184e...|   đường Sông Thao 5|\n",
      "|Công ty Cổ phần Đ...|       33540.7|   Căn hộ chung cư|Golden City là că...|2024-09-25|Đang mở bán|Golden City: Dự á...|                   2200.0|TP. Tây Ninh - Tâ...|     1.2|{6740756bc13e184e...|số 6 đường Hồ Văn...|\n",
      "|Công ty TNHH MTV ...|       12389.0|   Căn hộ chung cư|Setia Gardens Res...|2024-09-13| Sắp mở bán|Setia Gardens Res...|                   416.18|TP.Thủ Đức - TP. ...|     0.0|{6740756bc13e184e...| Khu đô thị Eco Xuân|\n",
      "|Công ty Cổ phần T...|      305000.0|Nhà Phố - Biệt Thự|Sun Festival Aven...|2024-09-16|Đang mở bán|Dự án Sun Festiva...|                  10245.8|TP. Phú Quốc - Ki...|     3.1|{6740756bc13e184e...|        đảo Hòn Thơm|\n",
      "|Tập đoàn Vingroup...|       41778.0|Nhà Phố - Biệt Thự|Phân khu Miyabi l...|2024-09-18|Đang mở bán|Phân khu Miyabi –...|                  1403.44|Thủy Nguyên - Hải...|     4.8|{6740756bc13e184e...|    thuộc Đảo Vũ Yên|\n",
      "|Công ty cổ phần b...|       50850.0|   Căn hộ chung cư|Noble Crystal Tây...|2024-09-19|Đang mở bán|Dự án Noble Cryst...|                  12286.0|Quận Long Biên - ...|     2.6|{6740756bc13e184e...|         Lô đất CT01|\n",
      "|Công ty TNHH Bất ...|       23000.0|Nhà Phố - Biệt Thự|Cát Tường J-Home ...|2024-09-23|Đang mở bán|Cát Tường J-Home ...|                   772.63|TP. Thuận An - Bì...|     1.2|{6740756bc13e184e...|               DT743|\n",
      "|   Tập đoàn Sunshine|       27000.0|Nhà Phố - Biệt Thự|Noble Palace Long...|2024-09-24|Đang mở bán|Noble Palace Long...|                   3000.0|Quận Long Biên - ...|     4.0|{6740756bc13e184e...|    phường Việt Hưng|\n",
      "|   Tập đoàn Sunshine|       17000.0|   Căn hộ chung cư|Noble Crystal Lon...|2024-09-27|Đang mở bán|Dự án Noble Cryst...|                   8800.0|Quận Long Biên - ...|     3.9|{6740756bc13e184e...|đường Vũ Đức T...|\n",
      "|   Tập đoàn Sunshine|      101000.0|Nhà Phố - Biệt Thự|Noble Palace Tây ...|2024-09-27|Đang mở bán|Tổ hợp biệt thự, ...|                  3392.87|     Tây Hồ - Hà Nội|     1.4|{6740756bc13e184e...|khu đô thị Ciputr...|\n",
      "|Công ty Cổ phần Đ...|       14744.0|   Căn hộ chung cư|Phú Đông Sky Gard...|2024-09-11|Đang mở bán|Căn hộ Phú Đông S...|                   495.29|TP. Dĩ An - Bình ...|     4.1|{6740756bc13e184e...|       đường An Bình|\n",
      "|Công ty Cổ phần Đ...|        5615.0|   Căn hộ chung cư|Phú Đông Sky One ...|2024-09-11|Đang mở bán|Phú Đông Sky One:...|                   188.62|TP. Dĩ An - Bình ...|     2.5|{6740756bc13e184e...|       đường DT 743C|\n",
      "|Gamuda Land Việt Nam|       36800.0|   Căn hộ chung cư|Dự án tổ hợp căn ...|2024-09-11|Đang mở bán|Eaton Park: Dự án...|                  26000.0|TP.Thủ Đức - TP. ...|     2.0|{6740756bc13e184e...|  Đại lộ Mai Chí Thọ|\n",
      "|Công ty Cổ phần P...|     1014000.0|        Khu Đô Thị|LA Home có vị trí...|2024-09-11|Đang mở bán|LA Home: Dự án Kh...|                   2936.0| TP.Tân An - Long An|     1.9|{6740756bc13e184e...|             Bến Lức|\n",
      "|Công ty Cổ phần T...|       14187.8|   Căn hộ chung cư|Dự án HQC Tân Hươ...|2024-09-11|Đang mở bán|HQC Tân Hương: Dự...|                    530.0|Châu Thành - Tiền...|     4.3|{6740756bc13e184e...|         đường số 14|\n",
      "|Công ty TNHH Asia...|       21798.0|   Căn hộ chung cư|Nam Ô Discovery l...|2024-09-09|Đang mở bán|Nam Ô Discovery: ...|                   732.26|quận Liên Chiểu -...|     4.9|{6740756bc13e184e...|mặt tiền đường Ng...|\n",
      "|Công ty Cổ phần T...|       11000.0|Nhà Phố - Biệt Thự|The Lagom Phú Quố...|2024-08-23|Đang mở bán|The Lagom: Dự án ...|                   369.52|TP. Phú Quốc - Ki...|     4.3|{6740756bc13e184e...|Khu phức hợp du l...|\n",
      "|Công ty Cổ phần K...|        8660.0|        Khu Đô Thị|Uni Complex là dự...|2024-08-24| Sắp mở bán|Khu phố thương mạ...|                    631.0|TP. Thủ Dầu Một -...|     0.0|{6740756bc13e184e...|góc đường An Dươn...|\n",
      "|Công ty Cổ phần D...|       72600.0|        Khu Đô Thị|The Centric là tổ...|2024-09-12| Sắp mở bán|The Centric: Tổ h...|                   1323.0|Thủy Nguyên - Hải...|     0.0|{6740756bc13e184e...|       đường Đỗ Mười|\n",
      "|Công ty TNHH Syca...|       11000.0|   Căn hộ chung cư|The Orchard Hill ...|2024-09-05|Đang mở bán|The Orchard Hill:...|                   369.52|  Phú Mỹ - Hậu Giang|     3.1|{6740756bc13e184e...|mặt tiền đường Hù...|\n",
      "+--------------------+--------------+------------------+--------------------+----------+-----------+--------------------+-------------------------+--------------------+--------+--------------------+--------------------+\n",
      "only showing top 20 rows\n",
      "\n"
     ]
    }
   ],
   "source": [
    "#Xem dl các cột\n",
    "df.show()"
   ]
  },
  {
   "cell_type": "code",
   "execution_count": null,
   "metadata": {},
   "outputs": [],
   "source": [
    "# Xóa bỏ dấu chấm ở các dòng m2\n",
    "df = df.withColumn(\"Diện tích:\", regexp_replace(col(\"Diện tích:\"), \"\\\\.\", \"\"))\n",
    "\n",
    "# Đổi dấu phẩy ở dòng có chứa 'ha' thành dấu chấm\n",
    "df = df.withColumn(\"Diện tích:\", regexp_replace(col(\"Diện tích:\"), \",\", \".\"))"
   ]
  },
  {
   "cell_type": "code",
   "execution_count": null,
   "metadata": {},
   "outputs": [
    {
     "name": "stdout",
     "output_type": "stream",
     "text": [
      "+--------------------+--------------+------------------+--------------------+--------------------+--------------------+-----------+--------------------+-----------------+--------+--------------------+--------------------+\n",
      "|          Chủ đầu tư|Diện tích (m²)|        Loại dự án|               Mô tả|           Ngày đăng|           Thành phố| Trạng thái|           Tên dự án|  Tổng vốn đầu tư|Xếp hạng|                 _id|               Đường|\n",
      "+--------------------+--------------+------------------+--------------------+--------------------+--------------------+-----------+--------------------+-----------------+--------+--------------------+--------------------+\n",
      "|Công Ty Cổ Phần B...|        8200.0|     Đất Nền Dự Án|The Long Eyes là ...|  12/09/2024 8:49 AM|           Trảng Bom|Đang mở bán|The Long Eyes: Dự...|    chưa cập nhật|     5.0|{66f8f9c98ac17558...|   đường Sông Thao 5|\n",
      "|Công ty Cổ phần Đ...|       33540.7|   Căn hộ chung cư|Golden City là că...|  25/09/2024 9:05 AM|        TP. Tây Ninh|Đang mở bán|Golden City: Dự á...|hơn 2.200 tỷ đồng|       0|{66f8f9cb8ac17558...|số 6 đường Hồ Văn...|\n",
      "|Công ty TNHH MTV ...|       12389.0|   Căn hộ chung cư|Setia Gardens Res...|  13/09/2024 1:37 PM| mặt tiền Quốc lộ 13|Đang mở bán|Setia Gardens Res...|    chưa cập nhật|       0|{66f8f9cd8ac17558...| Khu đô thị Eco Xuân|\n",
      "|Công ty Cổ phần T...|      305000.0|Nhà Phố - Biệt Thự|Sun Festival Aven...|  16/09/2024 8:47 PM|        TP. Phú Quốc|Đang mở bán|Dự án Sun Festiva...|    chưa cập nhật|       0|{66f8f9d08ac17558...|        đảo Hòn Thơm|\n",
      "|Tập đoàn Vingroup...| chưa cập nhật|Nhà Phố - Biệt Thự|Phân khu Miyabi l...| 18/09/2024 12:48 PM|         Thủy Nguyên|Đang mở bán|Phân khu Miyabi –...|    chưa cập nhật|     5.0|{66f8f9d28ac17558...|    thuộc Đảo Vũ Yên|\n",
      "|Công ty cổ phần b...|       50850.0|   Căn hộ chung cư|Noble Crystal Tây...|  19/09/2024 2:15 PM|Khu đô thị Quốc t...|Đang mở bán|Dự án Noble Cryst...|   12.286 tỷ đồng|       0|{66f8f9d48ac17558...|         Lô đất CT01|\n",
      "|Công ty TNHH Bất ...|       23000.0|Nhà Phố - Biệt Thự|Cát Tường J-Home ...|  23/09/2024 4:03 PM|        TP. Thuận An|Đang mở bán|Cát Tường J-Home ...|    chưa cập nhật|       0|{66f8f9d78ac17558...|               DT743|\n",
      "|   Tập đoàn Sunshine|       27000.0|Nhà Phố - Biệt Thự|Noble Palace Long...|  24/09/2024 3:39 PM|      quận Long Biên|Đang mở bán|Noble Palace Long...|    3.000 tỷ đồng|       0|{66f8f9d98ac17558...|    phường Việt Hưng|\n",
      "|   Tập đoàn Sunshine|       17000.0|   Căn hộ chung cư|Noble Crystal Lon...|  27/09/2024 3:17 PM|           Long Biên|Đang mở bán|Dự án Noble Cryst...|    8.800 tỷ đồng|       0|{66f8f9dc8ac17558...|đường Vũ Đức T...|\n",
      "|   Tập đoàn Sunshine|      101000.0|Nhà Phố - Biệt Thự|Noble Palace Tây ...|  27/09/2024 6:13 PM|              Tây Hồ|Đang mở bán|Tổ hợp biệt thự, ...|    chưa cập nhật|       0|{66f8f9de8ac17558...|khu đô thị Ciputr...|\n",
      "|Công ty Cổ phần Đ...| chưa cập nhật|   Căn hộ chung cư|Phú Đông Sky Gard...|  11/09/2024 1:22 PM|           TP. Dĩ An|Đang mở bán|Căn hộ Phú Đông S...|    chưa cập nhật|     4.3|{66f8f9e18ac17558...|       đường An Bình|\n",
      "|Công ty Cổ phần Đ...|        5615.0|   Căn hộ chung cư|Phú Đông Sky One ...|  11/09/2024 1:19 PM|           TP. Dĩ An|Đang mở bán|Phú Đông Sky One:...|    chưa cập nhật|       0|{66f8f9e38ac17558...|       đường DT 743C|\n",
      "|Gamuda Land Việt Nam|       36800.0|   Căn hộ chung cư|Dự án tổ hợp căn ...|  11/09/2024 1:23 PM|Quận 2 - TP. Thủ Đức|Đang mở bán|Eaton Park: Dự án...|   26.000 tỷ đồng|       0|{66f8f9e48ac17558...|  Đại lộ Mai Chí Thọ|\n",
      "|Công ty Cổ phần P...|     1014000.0|        Khu Đô Thị|LA Home có vị trí...|  11/09/2024 1:26 PM|             Long An|Đang mở bán|LA Home: Dự án Kh...|    2.936 tỷ đồng|       0|{66f8f9e68ac17558...|             Bến Lức|\n",
      "|Công ty Cổ phần T...|       14187.8|   Căn hộ chung cư|Dự án HQC Tân Hươ...| 11/09/2024 12:00 PM|          Châu Thành|Đang mở bán|HQC Tân Hương: Dự...|      530 tỷ đồng|       0|{66f8f9ec8ac17558...|         đường số 14|\n",
      "|Công ty TNHH Asia...| chưa cập nhật|   Căn hộ chung cư|Nam Ô Discovery l...|  09/09/2024 3:01 PM|     quận Liên Chiểu|Đang mở bán|Nam Ô Discovery: ...|    chưa cập nhật|       0|{66f8f9ef8ac17558...|mặt tiền đường Ng...|\n",
      "|Công ty Cổ phần T...|       11000.0|Nhà Phố - Biệt Thự|The Lagom Phú Quố...|  23/08/2024 2:15 PM|        TP. Phú Quốc|Đang mở bán|The Lagom: Dự án ...|    chưa cập nhật|       0|{66f8f9f28ac17558...|Khu phức hợp du l...|\n",
      "|Công ty Cổ phần K...|        8660.0|        Khu Đô Thị|Uni Complex là dự...|  24/08/2024 6:32 PM|     TP. Thủ Dầu Một|Đang mở bán|Khu phố thương mạ...|      631 tỷ đồng|       0|{66f8f9f48ac17558...|góc đường An Dươn...|\n",
      "|Công ty Cổ phần D...|       72600.0|        Khu Đô Thị|The Centric là tổ...| 12/09/2024 10:02 AM|         Thủy Nguyên|Đang mở bán|The Centric: Tổ h...| gần 1.323 tỷ đồg|       0|{66f8f9f68ac17558...|       đường Đỗ Mười|\n",
      "|Công ty TNHH Syca...|       11000.0|   Căn hộ chung cư|The Orchard Hill ...|  05/09/2024 5:28 PM|       phường Phú Mỹ|Đang mở bán|The Orchard Hill:...|    chưa cập nhật|     5.0|{66f8f9f98ac17558...|mặt tiền đường Hù...|\n",
      "+--------------------+--------------+------------------+--------------------+--------------------+--------------------+-----------+--------------------+-----------------+--------+--------------------+--------------------+\n",
      "only showing top 20 rows\n",
      "\n"
     ]
    }
   ],
   "source": [
    "from pyspark.sql.functions import col, when, regexp_extract\n",
    "# Chuyển đổi giá trị diện tích, nhân với 10.000 nếu có 'ha'\n",
    "df = df.withColumn(\n",
    "    \"Diện tích:\",\n",
    "        when(\n",
    "            col(\"Diện tích:\").contains(\"ha\"),\n",
    "            regexp_extract(col(\"Diện tích:\"), \"([\\\\d.]+)\", 1).cast(\"float\") * 10000  # Nhân với 10.000 nếu có 'ha'\n",
    "        ).otherwise(\n",
    "            regexp_extract(col(\"Diện tích:\"), \"([\\\\d.]+)\", 1).cast(\"float\")  # Chuyển đổi giá trị m2\n",
    "        )\n",
    ")\n",
    "# Đổi tên cột thành \"Diện tích(m²)\"\n",
    "df = df.withColumnRenamed(\"Diện tích:\", \"Diện tích (m²)\")\n",
    "# Xóa bỏ chữ 'ha' và 'm2'\n",
    "df = df.withColumn(\"Diện tích (m²)\", regexp_replace(col(\"Diện tích (m²)\"), \"ha|m2\", \"\"))\n",
    "#Xem dl các cột\n",
    "df.show()"
   ]
  },
  {
   "cell_type": "code",
   "execution_count": null,
   "metadata": {},
   "outputs": [],
   "source": [
    "# Xóa bỏ dấu chấm ở các dòng \"tỷ đồng\"\n",
    "df = df.withColumn(\"Tổng vốn đầu tư\", regexp_replace(col(\"Tổng vốn đầu tư\"), \"\\\\.\", \"\"))\n",
    "\n",
    "# Đổi dấu phẩy ở dòng có chứa 'USD' thành dấu chấm\n",
    "df = df.withColumn(\"Tổng vốn đầu tư\", regexp_replace(col(\"Tổng vốn đầu tư\"), \",\", \".\"))"
   ]
  },
  {
   "cell_type": "code",
   "execution_count": null,
   "metadata": {},
   "outputs": [
    {
     "name": "stdout",
     "output_type": "stream",
     "text": [
      "+--------------------+--------------+------------------+--------------------+--------------------+--------------------+-----------+--------------------+-------------------------+--------+--------------------+--------------------+\n",
      "|          Chủ đầu tư|Diện tích (m²)|        Loại dự án|               Mô tả|           Ngày đăng|              Vị trí| Trạng thái|           Tên dự án|Tổng vốn đầu tư (tỷ đồng)|Xếp hạng|                 _id|               Đường|\n",
      "+--------------------+--------------+------------------+--------------------+--------------------+--------------------+-----------+--------------------+-------------------------+--------+--------------------+--------------------+\n",
      "|Công Ty Cổ Phần B...|        8200.0|     Đất Nền Dự Án|The Long Eyes là ...|  12/09/2024 8:49 AM|           Trảng Bom|Đang mở bán|The Long Eyes: Dự...|            chưa cập nhật|     5.0|{66f8f9c98ac17558...|   đường Sông Thao 5|\n",
      "|Công ty Cổ phần Đ...|       33540.7|   Căn hộ chung cư|Golden City là că...|  25/09/2024 9:05 AM|        TP. Tây Ninh|Đang mở bán|Golden City: Dự á...|                   2200.0|       0|{66f8f9cb8ac17558...|số 6 đường Hồ Văn...|\n",
      "|Công ty TNHH MTV ...|       12389.0|   Căn hộ chung cư|Setia Gardens Res...|  13/09/2024 1:37 PM| mặt tiền Quốc lộ 13|Đang mở bán|Setia Gardens Res...|            chưa cập nhật|       0|{66f8f9cd8ac17558...| Khu đô thị Eco Xuân|\n",
      "|Công ty Cổ phần T...|      305000.0|Nhà Phố - Biệt Thự|Sun Festival Aven...|  16/09/2024 8:47 PM|        TP. Phú Quốc|Đang mở bán|Dự án Sun Festiva...|            chưa cập nhật|       0|{66f8f9d08ac17558...|        đảo Hòn Thơm|\n",
      "|Tập đoàn Vingroup...| chưa cập nhật|Nhà Phố - Biệt Thự|Phân khu Miyabi l...| 18/09/2024 12:48 PM|         Thủy Nguyên|Đang mở bán|Phân khu Miyabi –...|            chưa cập nhật|     5.0|{66f8f9d28ac17558...|    thuộc Đảo Vũ Yên|\n",
      "|Công ty cổ phần b...|       50850.0|   Căn hộ chung cư|Noble Crystal Tây...|  19/09/2024 2:15 PM|Khu đô thị Quốc t...|Đang mở bán|Dự án Noble Cryst...|                  12286.0|       0|{66f8f9d48ac17558...|         Lô đất CT01|\n",
      "|Công ty TNHH Bất ...|       23000.0|Nhà Phố - Biệt Thự|Cát Tường J-Home ...|  23/09/2024 4:03 PM|        TP. Thuận An|Đang mở bán|Cát Tường J-Home ...|            chưa cập nhật|       0|{66f8f9d78ac17558...|               DT743|\n",
      "|   Tập đoàn Sunshine|       27000.0|Nhà Phố - Biệt Thự|Noble Palace Long...|  24/09/2024 3:39 PM|      quận Long Biên|Đang mở bán|Noble Palace Long...|                   3000.0|       0|{66f8f9d98ac17558...|    phường Việt Hưng|\n",
      "|   Tập đoàn Sunshine|       17000.0|   Căn hộ chung cư|Noble Crystal Lon...|  27/09/2024 3:17 PM|           Long Biên|Đang mở bán|Dự án Noble Cryst...|                   8800.0|       0|{66f8f9dc8ac17558...|đường Vũ Đức T...|\n",
      "|   Tập đoàn Sunshine|      101000.0|Nhà Phố - Biệt Thự|Noble Palace Tây ...|  27/09/2024 6:13 PM|              Tây Hồ|Đang mở bán|Tổ hợp biệt thự, ...|            chưa cập nhật|       0|{66f8f9de8ac17558...|khu đô thị Ciputr...|\n",
      "|Công ty Cổ phần Đ...| chưa cập nhật|   Căn hộ chung cư|Phú Đông Sky Gard...|  11/09/2024 1:22 PM|           TP. Dĩ An|Đang mở bán|Căn hộ Phú Đông S...|            chưa cập nhật|     4.3|{66f8f9e18ac17558...|       đường An Bình|\n",
      "|Công ty Cổ phần Đ...|        5615.0|   Căn hộ chung cư|Phú Đông Sky One ...|  11/09/2024 1:19 PM|           TP. Dĩ An|Đang mở bán|Phú Đông Sky One:...|            chưa cập nhật|       0|{66f8f9e38ac17558...|       đường DT 743C|\n",
      "|Gamuda Land Việt Nam|       36800.0|   Căn hộ chung cư|Dự án tổ hợp căn ...|  11/09/2024 1:23 PM|Quận 2 - TP. Thủ Đức|Đang mở bán|Eaton Park: Dự án...|                  26000.0|       0|{66f8f9e48ac17558...|  Đại lộ Mai Chí Thọ|\n",
      "|Công ty Cổ phần P...|     1014000.0|        Khu Đô Thị|LA Home có vị trí...|  11/09/2024 1:26 PM|             Long An|Đang mở bán|LA Home: Dự án Kh...|                   2936.0|       0|{66f8f9e68ac17558...|             Bến Lức|\n",
      "|Công ty Cổ phần T...|       14187.8|   Căn hộ chung cư|Dự án HQC Tân Hươ...| 11/09/2024 12:00 PM|          Châu Thành|Đang mở bán|HQC Tân Hương: Dự...|                    530.0|       0|{66f8f9ec8ac17558...|         đường số 14|\n",
      "|Công ty TNHH Asia...| chưa cập nhật|   Căn hộ chung cư|Nam Ô Discovery l...|  09/09/2024 3:01 PM|     quận Liên Chiểu|Đang mở bán|Nam Ô Discovery: ...|            chưa cập nhật|       0|{66f8f9ef8ac17558...|mặt tiền đường Ng...|\n",
      "|Công ty Cổ phần T...|       11000.0|Nhà Phố - Biệt Thự|The Lagom Phú Quố...|  23/08/2024 2:15 PM|        TP. Phú Quốc|Đang mở bán|The Lagom: Dự án ...|            chưa cập nhật|       0|{66f8f9f28ac17558...|Khu phức hợp du l...|\n",
      "|Công ty Cổ phần K...|        8660.0|        Khu Đô Thị|Uni Complex là dự...|  24/08/2024 6:32 PM|     TP. Thủ Dầu Một|Đang mở bán|Khu phố thương mạ...|                    631.0|       0|{66f8f9f48ac17558...|góc đường An Dươn...|\n",
      "|Công ty Cổ phần D...|       72600.0|        Khu Đô Thị|The Centric là tổ...| 12/09/2024 10:02 AM|         Thủy Nguyên|Đang mở bán|The Centric: Tổ h...|                   1323.0|       0|{66f8f9f68ac17558...|       đường Đỗ Mười|\n",
      "|Công ty TNHH Syca...|       11000.0|   Căn hộ chung cư|The Orchard Hill ...|  05/09/2024 5:28 PM|       phường Phú Mỹ|Đang mở bán|The Orchard Hill:...|            chưa cập nhật|     5.0|{66f8f9f98ac17558...|mặt tiền đường Hù...|\n",
      "+--------------------+--------------+------------------+--------------------+--------------------+--------------------+-----------+--------------------+-------------------------+--------+--------------------+--------------------+\n",
      "only showing top 20 rows\n",
      "\n"
     ]
    }
   ],
   "source": [
    "from pyspark.sql.functions import col, when, regexp_extract\n",
    "# Chuyển đổi giá trị tổng vón đầu tư, nhân với 24 nếu có \"USD\"\n",
    "df = df.withColumn(\n",
    "    \"Tổng vốn đầu tư\",\n",
    "        when(\n",
    "            col(\"Tổng vốn đầu tư\").contains(\"USD\"),\n",
    "            regexp_extract(col(\"Tổng vốn đầu tư\"), \"([\\\\d.]+)\", 1).cast(\"float\") * 24  # Nhân 24 nếu có chữ triệu USD\n",
    "        ).otherwise(\n",
    "            regexp_extract(col(\"Tổng vốn đầu tư\"), \"([\\\\d.]+)\", 1).cast(\"float\")  \n",
    "        )\n",
    ")\n",
    "# Đổi tên cột thành \"Tổng vốn đầu tư (tỷ đồng)\"\n",
    "df = df.withColumnRenamed(\"Tổng vốn đầu tư\", \"Tổng vốn đầu tư (tỷ đồng)\")\n",
    "\n",
    "#đổi tên cột thành phố\n",
    "df=df.withColumnRenamed(\"Thành phố\",'Vị trí')\n",
    "\n",
    "# Hiển thị dữ liệu sau khi thay đổi\n",
    "df.show()"
   ]
  },
  {
   "cell_type": "code",
   "execution_count": 31,
   "metadata": {},
   "outputs": [
    {
     "name": "stdout",
     "output_type": "stream",
     "text": [
      "Các cột hiện có trong DataFrame: ['Chủ đầu tư', 'Diện tích (m²)', 'Loại dự án', 'Mô tả', 'Ngày đăng', 'Trạng thái', 'Tên dự án', 'Tổng vốn đầu tư (tỷ đồng)', 'Vị trí', 'Xếp hạng', '_id', 'Đường']\n",
      "+------------------+--------------------+--------------------+--------------------+--------------------+-----------+--------------+----------+-------------------------+--------+--------------------+\n",
      "|        Loại dự án|           Tên dự án|               Đường|              Vị trí|          Chủ đầu tư| Trạng thái|Diện tích (m²)| Ngày đăng|Tổng vốn đầu tư (tỷ đồng)|Xếp hạng|               Mô tả|\n",
      "+------------------+--------------------+--------------------+--------------------+--------------------+-----------+--------------+----------+-------------------------+--------+--------------------+\n",
      "|     Đất Nền Dự Án|The Long Eyes: Dự...|   đường Sông Thao 5|Trảng Bom - Đồng Nai|Công Ty Cổ Phần B...|Đang mở bán|        8200.0|2024-09-12|                   275.46|     4.0|The Long Eyes là ...|\n",
      "|   Căn hộ chung cư|Golden City: Dự á...|số 6 đường Hồ Văn...|TP. Tây Ninh - Tâ...|Công ty Cổ phần Đ...|Đang mở bán|       33540.7|2024-09-25|                   2200.0|     1.2|Golden City là că...|\n",
      "|   Căn hộ chung cư|Setia Gardens Res...| Khu đô thị Eco Xuân|TP.Thủ Đức - TP. ...|Công ty TNHH MTV ...| Sắp mở bán|       12389.0|2024-09-13|                   416.18|     0.0|Setia Gardens Res...|\n",
      "|Nhà Phố - Biệt Thự|Dự án Sun Festiva...|        đảo Hòn Thơm|TP. Phú Quốc - Ki...|Công ty Cổ phần T...|Đang mở bán|      305000.0|2024-09-16|                  10245.8|     3.1|Sun Festival Aven...|\n",
      "|Nhà Phố - Biệt Thự|Phân khu Miyabi –...|    thuộc Đảo Vũ Yên|Thủy Nguyên - Hải...|Tập đoàn Vingroup...|Đang mở bán|       41778.0|2024-09-18|                  1403.44|     4.8|Phân khu Miyabi l...|\n",
      "|   Căn hộ chung cư|Dự án Noble Cryst...|         Lô đất CT01|Quận Long Biên - ...|Công ty cổ phần b...|Đang mở bán|       50850.0|2024-09-19|                  12286.0|     2.6|Noble Crystal Tây...|\n",
      "|Nhà Phố - Biệt Thự|Cát Tường J-Home ...|               DT743|TP. Thuận An - Bì...|Công ty TNHH Bất ...|Đang mở bán|       23000.0|2024-09-23|                   772.63|     1.2|Cát Tường J-Home ...|\n",
      "|Nhà Phố - Biệt Thự|Noble Palace Long...|    phường Việt Hưng|Quận Long Biên - ...|   Tập đoàn Sunshine|Đang mở bán|       27000.0|2024-09-24|                   3000.0|     4.0|Noble Palace Long...|\n",
      "|   Căn hộ chung cư|Dự án Noble Cryst...|đường Vũ Đức T...|Quận Long Biên - ...|   Tập đoàn Sunshine|Đang mở bán|       17000.0|2024-09-27|                   8800.0|     3.9|Noble Crystal Lon...|\n",
      "|Nhà Phố - Biệt Thự|Tổ hợp biệt thự, ...|khu đô thị Ciputr...|     Tây Hồ - Hà Nội|   Tập đoàn Sunshine|Đang mở bán|      101000.0|2024-09-27|                  3392.87|     1.4|Noble Palace Tây ...|\n",
      "|   Căn hộ chung cư|Căn hộ Phú Đông S...|       đường An Bình|TP. Dĩ An - Bình ...|Công ty Cổ phần Đ...|Đang mở bán|       14744.0|2024-09-11|                   495.29|     4.1|Phú Đông Sky Gard...|\n",
      "|   Căn hộ chung cư|Phú Đông Sky One:...|       đường DT 743C|TP. Dĩ An - Bình ...|Công ty Cổ phần Đ...|Đang mở bán|        5615.0|2024-09-11|                   188.62|     2.5|Phú Đông Sky One ...|\n",
      "|   Căn hộ chung cư|Eaton Park: Dự án...|  Đại lộ Mai Chí Thọ|TP.Thủ Đức - TP. ...|Gamuda Land Việt Nam|Đang mở bán|       36800.0|2024-09-11|                  26000.0|     2.0|Dự án tổ hợp căn ...|\n",
      "|        Khu Đô Thị|LA Home: Dự án Kh...|             Bến Lức| TP.Tân An - Long An|Công ty Cổ phần P...|Đang mở bán|     1014000.0|2024-09-11|                   2936.0|     1.9|LA Home có vị trí...|\n",
      "|   Căn hộ chung cư|HQC Tân Hương: Dự...|         đường số 14|Châu Thành - Tiền...|Công ty Cổ phần T...|Đang mở bán|       14187.8|2024-09-11|                    530.0|     4.3|Dự án HQC Tân Hươ...|\n",
      "|   Căn hộ chung cư|Nam Ô Discovery: ...|mặt tiền đường Ng...|quận Liên Chiểu -...|Công ty TNHH Asia...|Đang mở bán|       21798.0|2024-09-09|                   732.26|     4.9|Nam Ô Discovery l...|\n",
      "|Nhà Phố - Biệt Thự|The Lagom: Dự án ...|Khu phức hợp du l...|TP. Phú Quốc - Ki...|Công ty Cổ phần T...|Đang mở bán|       11000.0|2024-08-23|                   369.52|     4.3|The Lagom Phú Quố...|\n",
      "|        Khu Đô Thị|Khu phố thương mạ...|góc đường An Dươn...|TP. Thủ Dầu Một -...|Công ty Cổ phần K...| Sắp mở bán|        8660.0|2024-08-24|                    631.0|     0.0|Uni Complex là dự...|\n",
      "|        Khu Đô Thị|The Centric: Tổ h...|       đường Đỗ Mười|Thủy Nguyên - Hải...|Công ty Cổ phần D...| Sắp mở bán|       72600.0|2024-09-12|                   1323.0|     0.0|The Centric là tổ...|\n",
      "|   Căn hộ chung cư|The Orchard Hill:...|mặt tiền đường Hù...|  Phú Mỹ - Hậu Giang|Công ty TNHH Syca...|Đang mở bán|       11000.0|2024-09-05|                   369.52|     3.1|The Orchard Hill ...|\n",
      "+------------------+--------------------+--------------------+--------------------+--------------------+-----------+--------------+----------+-------------------------+--------+--------------------+\n",
      "only showing top 20 rows\n",
      "\n"
     ]
    }
   ],
   "source": [
    "from pyspark.sql.functions import col\n",
    "\n",
    "# Danh sách cột mong muốn\n",
    "desired_columns = [\n",
    "    \"Loại dự án\",\n",
    "    \"Tên dự án\",\n",
    "    \"Đường\",\n",
    "    \"Vị trí\",\n",
    "    \"Chủ đầu tư\",\n",
    "    \"Trạng thái\",\n",
    "    \"Diện tích (m²)\",  # Đổi tên cột này cho đầy đủ\n",
    "    \"Ngày đăng\",\n",
    "    \"Tổng vốn đầu tư (tỷ đồng)\",  # Đổi tên cột này cho đầy đủ\n",
    "    \"Xếp hạng\",\n",
    "    \"Mô tả\"\n",
    "]\n",
    "\n",
    "# Kiểm tra danh sách các cột có trong DataFrame\n",
    "existing_columns = df.columns\n",
    "print(\"Các cột hiện có trong DataFrame:\", existing_columns)\n",
    "\n",
    "# Lọc ra các cột tồn tại trong DataFrame\n",
    "valid_columns = [col for col in desired_columns if col in existing_columns]\n",
    "\n",
    "# Sắp xếp lại DataFrame theo thứ tự các cột đã lọc\n",
    "df = df.select(*valid_columns)\n",
    "\n",
    "# Hiển thị dữ liệu sau khi thay đổi\n",
    "df.show()\n"
   ]
  },
  {
   "cell_type": "code",
   "execution_count": 32,
   "metadata": {},
   "outputs": [],
   "source": [
    "from pyspark.sql.functions import when\n",
    "from pyspark.sql.functions import monotonically_increasing_id\n",
    "\n",
    "#thêm cột project_id \n",
    "df=df.withColumn('project_id',monotonically_increasing_id())\n",
    "\n",
    "# Thêm cột project_type_id với giá trị tương ứng cho từng loại dự án\n",
    "df= df.withColumn(\"project_type_id\",\n",
    "    when(df[\"Loại dự án\"] == \"Khu công nghiệp\", 111)\n",
    "    .when(df[\"Loại dự án\"] == \"Nhà Phố - Biệt Thự\", 112)\n",
    "    .when(df[\"Loại dự án\"] == \"Bất Động Sản Nghỉ Dưỡng\", 113)\n",
    "    .when(df[\"Loại dự án\"] == \"Loại Hình Khác\", 114)\n",
    "    .when(df[\"Loại dự án\"] == \"Căn hộ chung cư\", 115)\n",
    "    .when(df[\"Loại dự án\"] == \"Khu Đô Thị\", 116)\n",
    "    .when(df[\"Loại dự án\"] == \"Đất Nền Dự Án\", 117)\n",
    "    .otherwise(None)  # Gán None cho các giá trị không xác định\n",
    ")"
   ]
  },
  {
   "cell_type": "code",
   "execution_count": 33,
   "metadata": {},
   "outputs": [
    {
     "name": "stdout",
     "output_type": "stream",
     "text": [
      "Dữ liệu đã được lưu thành công vào file dulieusach.csv\n"
     ]
    }
   ],
   "source": [
    "from pyspark.sql import SparkSession\n",
    "import shutil\n",
    "import os\n",
    "\n",
    "# Tạo SparkSession\n",
    "spark = SparkSession.builder.appName(\"LuuCSV\").getOrCreate()\n",
    "\n",
    "# Ghi dữ liệu vào thư mục (chỉ một file)\n",
    "output_dir = \"dulieusach_output\"\n",
    "df.coalesce(1).write.csv(output_dir, header=True, mode='overwrite')\n",
    "\n",
    "# Di chuyển file CSV duy nhất ra ngoài và xóa thư mục\n",
    "for filename in os.listdir(output_dir):\n",
    "    if filename.endswith(\".csv\"):\n",
    "        shutil.move(os.path.join(output_dir, filename), \"dulieusach.csv\")\n",
    "\n",
    "# Xóa thư mục trống sau khi di chuyển\n",
    "shutil.rmtree(output_dir)\n",
    "\n",
    "print(\"Dữ liệu đã được lưu thành công vào file dulieusach.csv\")\n"
   ]
  },
  {
   "cell_type": "code",
   "execution_count": 34,
   "metadata": {},
   "outputs": [
    {
     "name": "stdout",
     "output_type": "stream",
     "text": [
      "+------------------+--------------------+--------------------+--------------------+--------------------+-----------+--------------+----------+-------------------------+--------+--------------------+----------+---------------+\n",
      "|        Loại dự án|           Tên dự án|               Đường|              Vị trí|          Chủ đầu tư| Trạng thái|Diện tích (m²)| Ngày đăng|Tổng vốn đầu tư (tỷ đồng)|Xếp hạng|               Mô tả|project_id|project_type_id|\n",
      "+------------------+--------------------+--------------------+--------------------+--------------------+-----------+--------------+----------+-------------------------+--------+--------------------+----------+---------------+\n",
      "|     Đất Nền Dự Án|The Long Eyes: Dự...|   đường Sông Thao 5|Trảng Bom - Đồng Nai|Công Ty Cổ Phần B...|Đang mở bán|        8200.0|2024-09-12|                   275.46|     4.0|The Long Eyes là ...|         0|            117|\n",
      "|   Căn hộ chung cư|Golden City: Dự á...|số 6 đường Hồ Văn...|TP. Tây Ninh - Tâ...|Công ty Cổ phần Đ...|Đang mở bán|       33540.7|2024-09-25|                   2200.0|     1.2|Golden City là că...|         1|            115|\n",
      "|   Căn hộ chung cư|Setia Gardens Res...| Khu đô thị Eco Xuân|TP.Thủ Đức - TP. ...|Công ty TNHH MTV ...| Sắp mở bán|       12389.0|2024-09-13|                   416.18|     0.0|Setia Gardens Res...|         2|            115|\n",
      "|Nhà Phố - Biệt Thự|Dự án Sun Festiva...|        đảo Hòn Thơm|TP. Phú Quốc - Ki...|Công ty Cổ phần T...|Đang mở bán|      305000.0|2024-09-16|                  10245.8|     3.1|Sun Festival Aven...|         3|            112|\n",
      "|Nhà Phố - Biệt Thự|Phân khu Miyabi –...|    thuộc Đảo Vũ Yên|Thủy Nguyên - Hải...|Tập đoàn Vingroup...|Đang mở bán|       41778.0|2024-09-18|                  1403.44|     4.8|Phân khu Miyabi l...|         4|            112|\n",
      "|   Căn hộ chung cư|Dự án Noble Cryst...|         Lô đất CT01|Quận Long Biên - ...|Công ty cổ phần b...|Đang mở bán|       50850.0|2024-09-19|                  12286.0|     2.6|Noble Crystal Tây...|         5|            115|\n",
      "|Nhà Phố - Biệt Thự|Cát Tường J-Home ...|               DT743|TP. Thuận An - Bì...|Công ty TNHH Bất ...|Đang mở bán|       23000.0|2024-09-23|                   772.63|     1.2|Cát Tường J-Home ...|         6|            112|\n",
      "|Nhà Phố - Biệt Thự|Noble Palace Long...|    phường Việt Hưng|Quận Long Biên - ...|   Tập đoàn Sunshine|Đang mở bán|       27000.0|2024-09-24|                   3000.0|     4.0|Noble Palace Long...|         7|            112|\n",
      "|   Căn hộ chung cư|Dự án Noble Cryst...|đường Vũ Đức T...|Quận Long Biên - ...|   Tập đoàn Sunshine|Đang mở bán|       17000.0|2024-09-27|                   8800.0|     3.9|Noble Crystal Lon...|         8|            115|\n",
      "|Nhà Phố - Biệt Thự|Tổ hợp biệt thự, ...|khu đô thị Ciputr...|     Tây Hồ - Hà Nội|   Tập đoàn Sunshine|Đang mở bán|      101000.0|2024-09-27|                  3392.87|     1.4|Noble Palace Tây ...|         9|            112|\n",
      "|   Căn hộ chung cư|Căn hộ Phú Đông S...|       đường An Bình|TP. Dĩ An - Bình ...|Công ty Cổ phần Đ...|Đang mở bán|       14744.0|2024-09-11|                   495.29|     4.1|Phú Đông Sky Gard...|        10|            115|\n",
      "|   Căn hộ chung cư|Phú Đông Sky One:...|       đường DT 743C|TP. Dĩ An - Bình ...|Công ty Cổ phần Đ...|Đang mở bán|        5615.0|2024-09-11|                   188.62|     2.5|Phú Đông Sky One ...|        11|            115|\n",
      "|   Căn hộ chung cư|Eaton Park: Dự án...|  Đại lộ Mai Chí Thọ|TP.Thủ Đức - TP. ...|Gamuda Land Việt Nam|Đang mở bán|       36800.0|2024-09-11|                  26000.0|     2.0|Dự án tổ hợp căn ...|        12|            115|\n",
      "|        Khu Đô Thị|LA Home: Dự án Kh...|             Bến Lức| TP.Tân An - Long An|Công ty Cổ phần P...|Đang mở bán|     1014000.0|2024-09-11|                   2936.0|     1.9|LA Home có vị trí...|        13|            116|\n",
      "|   Căn hộ chung cư|HQC Tân Hương: Dự...|         đường số 14|Châu Thành - Tiền...|Công ty Cổ phần T...|Đang mở bán|       14187.8|2024-09-11|                    530.0|     4.3|Dự án HQC Tân Hươ...|        14|            115|\n",
      "|   Căn hộ chung cư|Nam Ô Discovery: ...|mặt tiền đường Ng...|quận Liên Chiểu -...|Công ty TNHH Asia...|Đang mở bán|       21798.0|2024-09-09|                   732.26|     4.9|Nam Ô Discovery l...|        15|            115|\n",
      "|Nhà Phố - Biệt Thự|The Lagom: Dự án ...|Khu phức hợp du l...|TP. Phú Quốc - Ki...|Công ty Cổ phần T...|Đang mở bán|       11000.0|2024-08-23|                   369.52|     4.3|The Lagom Phú Quố...|        16|            112|\n",
      "|        Khu Đô Thị|Khu phố thương mạ...|góc đường An Dươn...|TP. Thủ Dầu Một -...|Công ty Cổ phần K...| Sắp mở bán|        8660.0|2024-08-24|                    631.0|     0.0|Uni Complex là dự...|        17|            116|\n",
      "|        Khu Đô Thị|The Centric: Tổ h...|       đường Đỗ Mười|Thủy Nguyên - Hải...|Công ty Cổ phần D...| Sắp mở bán|       72600.0|2024-09-12|                   1323.0|     0.0|The Centric là tổ...|        18|            116|\n",
      "|   Căn hộ chung cư|The Orchard Hill:...|mặt tiền đường Hù...|  Phú Mỹ - Hậu Giang|Công ty TNHH Syca...|Đang mở bán|       11000.0|2024-09-05|                   369.52|     3.1|The Orchard Hill ...|        19|            115|\n",
      "+------------------+--------------------+--------------------+--------------------+--------------------+-----------+--------------+----------+-------------------------+--------+--------------------+----------+---------------+\n",
      "only showing top 20 rows\n",
      "\n"
     ]
    }
   ],
   "source": [
    "df.show()"
   ]
  },
  {
   "cell_type": "code",
   "execution_count": 35,
   "metadata": {},
   "outputs": [],
   "source": [
    "#bảng project\n",
    "projects=df.select(\"Tên dự án\",'project_type_id') \\\n",
    "\n",
    "    #thêm cột project_id để làm khóa chính và đổi tên các cột\n",
    "projects=projects.withColumn('project_id',monotonically_increasing_id())\\\n",
    "                 .withColumnRenamed('project_id','Mã dự án') \\\n",
    "                 .withColumnRenamed('project_type_id','Mã loại dự án')\n",
    "\n",
    "#bảng loại dự án\n",
    "project_types=df.select(\"Loại dự án\")\n",
    "    #tạo khóa chính mã loại dự án\n",
    "project_types= project_types.withColumn(\"project_type_id\",\n",
    "                                        when(col(\"Loại dự án\") == \"Khu công nghiệp\", 111)\n",
    "                                        .when(col(\"Loại dự án\") == \"Nhà Phố - Biệt Thự\", 112)\n",
    "                                        .when(col(\"Loại dự án\") == \"Bất Động Sản Nghỉ Dưỡng\", 113)\n",
    "                                        .when(col(\"Loại dự án\") == \"Loại Hình Khác\", 114)\n",
    "                                        .when(col(\"Loại dự án\") == \"Căn hộ chung cư\", 115)\n",
    "                                        .when(col(\"Loại dự án\") == \"Khu Đô Thị\", 116)\n",
    "                                        .when(col(\"Loại dự án\") == \"Đất Nền Dự Án\", 117)\n",
    "                                        .otherwise(None))\n",
    "\n",
    "from pyspark.sql.functions import count\n",
    "\n",
    "    # Tính số lượng dự án theo loại dự án\n",
    "project_types = project_types.groupBy(\"project_type_id\", \"Loại dự án\").agg(\n",
    "    count(\"*\").alias(\"Số lượng dự án\")\n",
    ")  \n",
    "                \n",
    "    # Loại bỏ các hàng trùng lặp\n",
    "project_types = project_types.dropDuplicates([\"project_type_id\",\"Loại dự án\",\"Số lượng dự án\"])   \n",
    "\n",
    "    #đổi tên các cột\n",
    "project_types=project_types.withColumnRenamed('project_type_id','Mã loại dự án')\\\n",
    "                           .withColumnRenamed('Loại dự án','Tên loại dự án')\n",
    "    # Sắp xếp DataFrame theo cột \"Mã loại dự án\" tăng dần\n",
    "project_types=project_types.orderBy(\"Mã loại dự án\")\n",
    "                 \n",
    "#bảng chi tiết dự án\n",
    "project_details = df.select(\"project_id\", \"Tên dự án\",\"project_type_id\",\"Loại dự án\",\"Đường\",\"Vị trí\",\"Diện tích (m²)\",\"Chủ đầu tư\",\"Tổng vốn đầu tư (tỷ đồng)\",\"Mô tả\")\\\n",
    "                    .withColumnRenamed('project_id', 'Mã dự án') \\\n",
    "                    .withColumnRenamed(\"Loại dự án\", \"Tên loại dự án\") \\\n",
    "                    .withColumnRenamed('project_type_id', 'Mã loại dự án')\n",
    "#bảng vị trí \n",
    "locations =df.select('project_id','Vị trí','Đường','Diện tích (m²)')\\\n",
    "            .withColumnRenamed('project_id','Mã dự án')\n",
    "#bảng trạng thái  \n",
    "status=df.select('project_id',\"Tên dự án\",'Trạng thái','Ngày đăng','Xếp hạng','Mô tả')\\\n",
    "         .withColumnRenamed('project_id','Mã dự án')"
   ]
  },
  {
   "cell_type": "code",
   "execution_count": 36,
   "metadata": {},
   "outputs": [],
   "source": [
    "#thêm khóa ngoại cho bảng project_detail để nối với bảng project\n",
    "project_details=project_details.join(projects.select(\n",
    "    'Mã dự án'),on='Mã dự án',how='inner')\n",
    "\n",
    "#thêm khóa ngoại cho bảng location để nối với bảng project\n",
    "locations=locations.join(projects.select(\n",
    "    'Mã dự án'),on='Mã dự án',how='inner')\n",
    "\n",
    "#thêm khóa ngoại cho bảng status để nối với bảng project\n",
    "status=status.join(projects.select(\n",
    "    'Mã dự án'),on='Mã dự án',how='inner') \n",
    "\n",
    "#thêm khóa ngoại cho bảng project để nối với bảng project type\n",
    "projects=projects.join(project_types.select(\n",
    "    'Mã loại dự án'),on='Mã loại dự án',how='inner')    \n",
    "       "
   ]
  },
  {
   "cell_type": "code",
   "execution_count": 37,
   "metadata": {},
   "outputs": [],
   "source": [
    "# Kết nối tới PostgreSQL\n",
    "jdbc_url = \"jdbc:postgresql://localhost:5432/cafeland\"\n",
    "connection_properties = {\n",
    "    \"user\": \"postgres\",\n",
    "    \"password\": \"123\",#nhập mk tạo trong postgres\n",
    "    \"driver\": \"org.postgresql.Driver\"\n",
    "}"
   ]
  },
  {
   "cell_type": "code",
   "execution_count": 38,
   "metadata": {},
   "outputs": [],
   "source": [
    "# Hàm ghi dữ liệu vào PostgreSQL\n",
    "\n",
    "def write_to_postgres(df, table_name):\n",
    "    try:\n",
    "        df.write.jdbc(\n",
    "            url=jdbc_url,\n",
    "            table=table_name,\n",
    "            mode=\"overwrite\",\n",
    "            properties=connection_properties\n",
    "        )\n",
    "        print(f\"Đã ghi thành công bảng {table_name} vào PostgreSQL!\")\n",
    "    except Exception as e:\n",
    "        print(f\"Lỗi khi ghi bảng {table_name} vào PostgreSQL: {e}\")"
   ]
  },
  {
   "cell_type": "code",
   "execution_count": 39,
   "metadata": {},
   "outputs": [
    {
     "name": "stdout",
     "output_type": "stream",
     "text": [
      "Đã ghi thành công bảng projects vào PostgreSQL!\n",
      "Đã ghi thành công bảng locations vào PostgreSQL!\n",
      "Đã ghi thành công bảng project_details vào PostgreSQL!\n",
      "Đã ghi thành công bảng project_types vào PostgreSQL!\n",
      "Đã ghi thành công bảng status vào PostgreSQL!\n"
     ]
    }
   ],
   "source": [
    "# Lưu bảng  vào PostgreSQL\n",
    "write_to_postgres(projects, \"projects\")\n",
    "write_to_postgres(locations, \"locations\")\n",
    "write_to_postgres(project_details, \"project_details\")\n",
    "write_to_postgres(project_types, \"project_types\")\n",
    "write_to_postgres(status, \"status\")"
   ]
  },
  {
   "cell_type": "code",
   "execution_count": 40,
   "metadata": {},
   "outputs": [
    {
     "name": "stderr",
     "output_type": "stream",
     "text": [
      "INFO:root:Executed command: ALTER TABLE projects ADD CONSTRAINT pk_project PRIMARY KEY (\"Mã dự án\");\n",
      "INFO:root:Executed command: ALTER TABLE project_types ADD CONSTRAINT pk_type PRIMARY KEY (\"Mã loại dự án\");\n",
      "INFO:root:Executed command: ALTER TABLE locations ADD CONSTRAINT fk_locations_projects FOREIGN KEY (\"Mã dự án\") REFERENCES projects (\"Mã dự án\");\n",
      "INFO:root:Executed command: ALTER TABLE project_details ADD CONSTRAINT fk_project_details_project FOREIGN KEY (\"Mã dự án\") REFERENCES projects (\"Mã dự án\");\n",
      "INFO:root:Executed command: ALTER TABLE status ADD CONSTRAINT fk_status_project FOREIGN KEY (\"Mã dự án\") REFERENCES projects (\"Mã dự án\");\n",
      "INFO:root:Executed command: ALTER TABLE projects ADD CONSTRAINT fk_type_project FOREIGN KEY (\"Mã loại dự án\") REFERENCES project_types (\"Mã loại dự án\");\n",
      "INFO:root:Primary and foreign key constraints created successfully.\n"
     ]
    }
   ],
   "source": [
    "import psycopg2\n",
    "import logging\n",
    "\n",
    "# Cấu hình logging\n",
    "logging.basicConfig(level=logging.INFO)\n",
    "\n",
    "# Danh sách các lệnh SQL\n",
    "commands = [\n",
    "    # Khóa chính\n",
    "    'ALTER TABLE projects ADD CONSTRAINT pk_project PRIMARY KEY (\"Mã dự án\");',\n",
    "    'ALTER TABLE project_types ADD CONSTRAINT pk_type PRIMARY KEY (\"Mã loại dự án\");',\n",
    "\n",
    "    # Khóa ngoại\n",
    "    'ALTER TABLE locations ADD CONSTRAINT fk_locations_projects FOREIGN KEY (\"Mã dự án\") REFERENCES projects (\"Mã dự án\");',\n",
    "    'ALTER TABLE project_details ADD CONSTRAINT fk_project_details_project FOREIGN KEY (\"Mã dự án\") REFERENCES projects (\"Mã dự án\");',\n",
    "    'ALTER TABLE status ADD CONSTRAINT fk_status_project FOREIGN KEY (\"Mã dự án\") REFERENCES projects (\"Mã dự án\");',\n",
    "    'ALTER TABLE projects ADD CONSTRAINT fk_type_project FOREIGN KEY (\"Mã loại dự án\") REFERENCES project_types (\"Mã loại dự án\");'\n",
    "]\n",
    "\n",
    "def execute_sql_commands(commands):\n",
    "    try:\n",
    "        # Kết nối đến PostgreSQL\n",
    "        connection = psycopg2.connect(\n",
    "            host=\"localhost\",  # Thay đổi nếu bạn chạy trong Docker\n",
    "            port=\"5432\",\n",
    "            database=\"cafeland\",\n",
    "            user=\"postgres\",\n",
    "            password=\"123\"\n",
    "        )\n",
    "        connection.autocommit = True\n",
    "        cursor = connection.cursor()\n",
    "\n",
    "        # Thực thi từng lệnh SQL\n",
    "        for command in commands:\n",
    "            cursor.execute(command)\n",
    "            logging.info(f\"Executed command: {command}\")\n",
    "\n",
    "        # Đóng kết nối\n",
    "        cursor.close()\n",
    "        connection.close()\n",
    "        logging.info(\"Primary and foreign key constraints created successfully.\")\n",
    "    except Exception as e:\n",
    "        logging.exception(f\"Error executing SQL commands: {e}\")\n",
    "\n",
    "# Gọi hàm để thực thi\n",
    "execute_sql_commands(commands)\n"
   ]
  },
  {
   "cell_type": "code",
   "execution_count": 41,
   "metadata": {},
   "outputs": [],
   "source": [
    "# Dừng SparkSession\n",
    "spark.stop()"
   ]
  }
 ],
 "metadata": {
  "kernelspec": {
   "display_name": "base",
   "language": "python",
   "name": "python3"
  },
  "language_info": {
   "codemirror_mode": {
    "name": "ipython",
    "version": 3
   },
   "file_extension": ".py",
   "mimetype": "text/x-python",
   "name": "python",
   "nbconvert_exporter": "python",
   "pygments_lexer": "ipython3",
   "version": "3.11.9"
  }
 },
 "nbformat": 4,
 "nbformat_minor": 2
}
