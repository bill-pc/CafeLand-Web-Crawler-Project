{
 "cells": [
  {
   "cell_type": "code",
   "execution_count": 23,
   "metadata": {},
   "outputs": [],
   "source": [
    "import pandas as pd\n",
    "import numpy as np\n",
    "from pymongo import MongoClient\n",
    "from pyspark.sql import SparkSession"
   ]
  },
  {
   "cell_type": "code",
   "execution_count": 24,
   "metadata": {},
   "outputs": [],
   "source": [
    "# Khởi tạo SparkSession\n",
    "from pyspark.sql import SparkSession\n",
    "spark = SparkSession.builder \\\n",
    "    .appName(\"MongoDB to Spark\") \\\n",
    "    .config(\"spark.jars.packages\", \"org.mongodb.spark:mongo-spark-connector_2.12:3.0.2\") \\\n",
    "    .config(\"spark.mongodb.input.uri\", \"mongodb://localhost:27017/dbmycrawler\") \\\n",
    "    .getOrCreate()"
   ]
  },
  {
   "cell_type": "code",
   "execution_count": 25,
   "metadata": {},
   "outputs": [
    {
     "name": "stdout",
     "output_type": "stream",
     "text": [
      "+--------------------+----------+------------------+--------------------+--------------------+--------------------+-----------+--------------------+-----------------+--------+--------------------+--------------------+\n",
      "|          Chủ đầu tư|Diện tích:|        Loại dự án|               Mô tả|           Ngày đăng|           Thành phố| Trạng thái|           Tên dự án|  Tổng vốn đầu tư|Xếp hạng|                 _id|               Đường|\n",
      "+--------------------+----------+------------------+--------------------+--------------------+--------------------+-----------+--------------------+-----------------+--------+--------------------+--------------------+\n",
      "|Công Ty Cổ Phần B...|   8.200m2|     Đất Nền Dự Án|The Long Eyes là ...|Cập nhật: 12/09/2...|           Trảng Bom|Đang mở bán|The Long Eyes: Dự...|          unknown|     5.0|{66f8f9c98ac17558...|   đường Sông Thao 5|\n",
      "|Công ty Cổ phần Đ...|33.540,7m2|   Căn hộ chung cư|Golden City là că...|Cập nhật: 25/09/2...|        TP. Tây Ninh|Đang mở bán|Golden City: Dự á...|hơn 2.200 tỷ đồng|       0|{66f8f9cb8ac17558...|số 6 đường Hồ Văn...|\n",
      "|Công ty TNHH MTV ...|  12.389m2|   Căn hộ chung cư|Setia Gardens Res...|Cập nhật: 13/09/2...| mặt tiền Quốc lộ 13|Đang mở bán|Setia Gardens Res...|          unknown|       0|{66f8f9cd8ac17558...| Khu đô thị Eco Xuân|\n",
      "|Công ty Cổ phần T...|    30,5ha|Nhà Phố - Biệt Thự|Sun Festival Aven...|Cập nhật: 16/09/2...|        TP. Phú Quốc|Đang mở bán|Dự án Sun Festiva...|          unknown|       0|{66f8f9d08ac17558...|        đảo Hòn Thơm|\n",
      "|Tập đoàn Vingroup...|          |Nhà Phố - Biệt Thự|Phân khu Miyabi l...|Cập nhật: 18/09/2...|         Thủy Nguyên|Đang mở bán|Phân khu Miyabi –...|          unknown|     5.0|{66f8f9d28ac17558...|    thuộc Đảo Vũ Yên|\n",
      "|Công ty cổ phần b...|  50.850m2|   Căn hộ chung cư|Noble Crystal Tây...|Cập nhật: 19/09/2...|Khu đô thị Quốc t...|Đang mở bán|Dự án Noble Cryst...|   12.286 tỷ đồng|       0|{66f8f9d48ac17558...|         Lô đất CT01|\n",
      "|Công ty TNHH Bất ...|     2,3ha|Nhà Phố - Biệt Thự|Cát Tường J-Home ...|Cập nhật: 23/09/2...|        TP. Thuận An|Đang mở bán|Cát Tường J-Home ...|          unknown|       0|{66f8f9d78ac17558...|               DT743|\n",
      "|   Tập đoàn Sunshine|     2,7ha|Nhà Phố - Biệt Thự|Noble Palace Long...|Cập nhật: 24/09/2...|      quận Long Biên|Đang mở bán|Noble Palace Long...|    3.000 tỷ đồng|       0|{66f8f9d98ac17558...|    phường Việt Hưng|\n",
      "|   Tập đoàn Sunshine|     1,7ha|   Căn hộ chung cư|Noble Crystal Lon...|Cập nhật: 27/09/2...|           Long Biên|Đang mở bán|Dự án Noble Cryst...|    8.800 tỷ đồng|       0|{66f8f9dc8ac17558...|đường Vũ Đức T...|\n",
      "|   Tập đoàn Sunshine|    10,1ha|Nhà Phố - Biệt Thự|Noble Palace Tây ...|Cập nhật: 27/09/2...|              Tây Hồ|Đang mở bán|Tổ hợp biệt thự, ...|          unknown|       0|{66f8f9de8ac17558...|khu đô thị Ciputr...|\n",
      "|Công ty Cổ phần Đ...|   unknown|   Căn hộ chung cư|Phú Đông Sky Gard...|Cập nhật: 11/09/2...|           TP. Dĩ An|Đang mở bán|Căn hộ Phú Đông S...|          unknown|     4.3|{66f8f9e18ac17558...|       đường An Bình|\n",
      "|Công ty Cổ phần Đ...|  5.615 m2|   Căn hộ chung cư|Phú Đông Sky One ...|Cập nhật: 11/09/2...|           TP. Dĩ An|Đang mở bán|Phú Đông Sky One:...|          unknown|       0|{66f8f9e38ac17558...|       đường DT 743C|\n",
      "|Gamuda Land Việt Nam| 36.800 m2|   Căn hộ chung cư|Dự án tổ hợp căn ...|Cập nhật: 11/09/2...|Quận 2 - TP. Thủ Đức|Đang mở bán|Eaton Park: Dự án...|   26.000 tỷ đồng|       0|{66f8f9e48ac17558...|  Đại lộ Mai Chí Thọ|\n",
      "|Công ty Cổ phần P...|   101,4ha|        Khu Đô Thị|LA Home có vị trí...|Cập nhật: 11/09/2...|             Long An|Đang mở bán|LA Home: Dự án Kh...|    2.936 tỷ đồng|       0|{66f8f9e68ac17558...|             Bến Lức|\n",
      "|Công ty Cổ phần T...|14.187,8m2|   Căn hộ chung cư|Dự án HQC Tân Hươ...|Cập nhật: 11/09/2...|          Châu Thành|Đang mở bán|HQC Tân Hương: Dự...|      530 tỷ đồng|       0|{66f8f9ec8ac17558...|         đường số 14|\n",
      "|Công ty TNHH Asia...|   unknown|   Căn hộ chung cư|Nam Ô Discovery l...|Cập nhật: 09/09/2...|     quận Liên Chiểu|Đang mở bán|Nam Ô Discovery: ...|          unknown|       0|{66f8f9ef8ac17558...|mặt tiền đường Ng...|\n",
      "|Công ty Cổ phần T...|     1,1ha|Nhà Phố - Biệt Thự|The Lagom Phú Quố...|Cập nhật: 23/08/2...|        TP. Phú Quốc|Đang mở bán|The Lagom: Dự án ...|          unknown|       0|{66f8f9f28ac17558...|Khu phức hợp du l...|\n",
      "|Công ty Cổ phần K...|   8.660m2|        Khu Đô Thị|Uni Complex là dự...|Cập nhật: 24/08/2...|     TP. Thủ Dầu Một|Đang mở bán|Khu phố thương mạ...|      631 tỷ đồng|       0|{66f8f9f48ac17558...|góc đường An Dươn...|\n",
      "|Công ty Cổ phần D...|    7,26ha|        Khu Đô Thị|The Centric là tổ...|Cập nhật: 12/09/2...|         Thủy Nguyên|Đang mở bán|The Centric: Tổ h...| gần 1.323 tỷ đồg|       0|{66f8f9f68ac17558...|       đường Đỗ Mười|\n",
      "|Công ty TNHH Syca...|     1,1ha|   Căn hộ chung cư|The Orchard Hill ...|Cập nhật: 05/09/2...|       phường Phú Mỹ|Đang mở bán|The Orchard Hill:...|          unknown|     5.0|{66f8f9f98ac17558...|mặt tiền đường Hù...|\n",
      "+--------------------+----------+------------------+--------------------+--------------------+--------------------+-----------+--------------------+-----------------+--------+--------------------+--------------------+\n",
      "only showing top 20 rows\n",
      "\n"
     ]
    }
   ],
   "source": [
    "#doc du lieu tu mongo\n",
    "df=spark.read.format(\"mongo\").option(\"collection\",\"tblcafeland\").load()\n",
    "#hien du lieu\n",
    "df.show() "
   ]
  },
  {
   "cell_type": "code",
   "execution_count": 26,
   "metadata": {},
   "outputs": [
    {
     "name": "stdout",
     "output_type": "stream",
     "text": [
      "root\n",
      " |-- Chủ đầu tư: string (nullable = true)\n",
      " |-- Diện tích:: string (nullable = true)\n",
      " |-- Loại dự án: string (nullable = true)\n",
      " |-- Mô tả: string (nullable = true)\n",
      " |-- Ngày đăng: string (nullable = true)\n",
      " |-- Thành phố: string (nullable = true)\n",
      " |-- Trạng thái: string (nullable = true)\n",
      " |-- Tên dự án: string (nullable = true)\n",
      " |-- Tổng vốn đầu tư: string (nullable = true)\n",
      " |-- Xếp hạng: string (nullable = true)\n",
      " |-- _id: struct (nullable = true)\n",
      " |    |-- oid: string (nullable = true)\n",
      " |-- Đường: string (nullable = true)\n",
      "\n"
     ]
    }
   ],
   "source": [
    "#Xem kiểu dl các cột\n",
    "df.printSchema()"
   ]
  },
  {
   "cell_type": "code",
   "execution_count": 27,
   "metadata": {},
   "outputs": [
    {
     "name": "stdout",
     "output_type": "stream",
     "text": [
      "Processed column: Chủ đầu tư\n",
      "Processed column: Diện tích:\n",
      "Processed column: Loại dự án\n",
      "Processed column: Mô tả\n",
      "Processed column: Ngày đăng\n",
      "Processed column: Thành phố\n",
      "Processed column: Trạng thái\n",
      "Processed column: Tên dự án\n",
      "Processed column: Tổng vốn đầu tư\n",
      "Processed column: Xếp hạng\n",
      "Error processing column _id: [DATATYPE_MISMATCH.BINARY_OP_DIFF_TYPES] Cannot resolve \"(_id = unknown)\" due to data type mismatch: the left and right operands of the binary operator have incompatible types (\"STRUCT<oid: STRING>\" and \"STRING\").;\n",
      "'Project [Chủ đầu tư#1000, Diện tích:#1013, Loại dự án#1026, Mô tả#1039, Ngày đăng#1052, Thành phố#1065, Trạng thái#1078, Tên dự án#1091, Tổng vốn đầu tư#1104, Xếp hạng#1117, CASE WHEN (_id#925 = unknown) THEN chưa cập nhật WHEN (_id#925 = ) THEN chưa cập nhật ELSE _id#925 END AS _id#1130, Đường#926]\n",
      "+- Project [Chủ đầu tư#1000, Diện tích:#1013, Loại dự án#1026, Mô tả#1039, Ngày đăng#1052, Thành phố#1065, Trạng thái#1078, Tên dự án#1091, Tổng vốn đầu tư#1104, CASE WHEN (Xếp hạng#924 = unknown) THEN chưa cập nhật WHEN (Xếp hạng#924 = ) THEN chưa cập nhật ELSE Xếp hạng#924 END AS Xếp hạng#1117, _id#925, Đường#926]\n",
      "   +- Project [Chủ đầu tư#1000, Diện tích:#1013, Loại dự án#1026, Mô tả#1039, Ngày đăng#1052, Thành phố#1065, Trạng thái#1078, Tên dự án#1091, CASE WHEN (Tổng vốn đầu tư#923 = unknown) THEN chưa cập nhật WHEN (Tổng vốn đầu tư#923 = ) THEN chưa cập nhật ELSE Tổng vốn đầu tư#923 END AS Tổng vốn đầu tư#1104, Xếp hạng#924, _id#925, Đường#926]\n",
      "      +- Project [Chủ đầu tư#1000, Diện tích:#1013, Loại dự án#1026, Mô tả#1039, Ngày đăng#1052, Thành phố#1065, Trạng thái#1078, CASE WHEN (Tên dự án#922 = unknown) THEN chưa cập nhật WHEN (Tên dự án#922 = ) THEN chưa cập nhật ELSE Tên dự án#922 END AS Tên dự án#1091, Tổng vốn đầu tư#923, Xếp hạng#924, _id#925, Đường#926]\n",
      "         +- Project [Chủ đầu tư#1000, Diện tích:#1013, Loại dự án#1026, Mô tả#1039, Ngày đăng#1052, Thành phố#1065, CASE WHEN (Trạng thái#921 = unknown) THEN chưa cập nhật WHEN (Trạng thái#921 = ) THEN chưa cập nhật ELSE Trạng thái#921 END AS Trạng thái#1078, Tên dự án#922, Tổng vốn đầu tư#923, Xếp hạng#924, _id#925, Đường#926]\n",
      "            +- Project [Chủ đầu tư#1000, Diện tích:#1013, Loại dự án#1026, Mô tả#1039, Ngày đăng#1052, CASE WHEN (Thành phố#920 = unknown) THEN chưa cập nhật WHEN (Thành phố#920 = ) THEN chưa cập nhật ELSE Thành phố#920 END AS Thành phố#1065, Trạng thái#921, Tên dự án#922, Tổng vốn đầu tư#923, Xếp hạng#924, _id#925, Đường#926]\n",
      "               +- Project [Chủ đầu tư#1000, Diện tích:#1013, Loại dự án#1026, Mô tả#1039, CASE WHEN (Ngày đăng#919 = unknown) THEN chưa cập nhật WHEN (Ngày đăng#919 = ) THEN chưa cập nhật ELSE Ngày đăng#919 END AS Ngày đăng#1052, Thành phố#920, Trạng thái#921, Tên dự án#922, Tổng vốn đầu tư#923, Xếp hạng#924, _id#925, Đường#926]\n",
      "                  +- Project [Chủ đầu tư#1000, Diện tích:#1013, Loại dự án#1026, CASE WHEN (Mô tả#918 = unknown) THEN chưa cập nhật WHEN (Mô tả#918 = ) THEN chưa cập nhật ELSE Mô tả#918 END AS Mô tả#1039, Ngày đăng#919, Thành phố#920, Trạng thái#921, Tên dự án#922, Tổng vốn đầu tư#923, Xếp hạng#924, _id#925, Đường#926]\n",
      "                     +- Project [Chủ đầu tư#1000, Diện tích:#1013, CASE WHEN (Loại dự án#917 = unknown) THEN chưa cập nhật WHEN (Loại dự án#917 = ) THEN chưa cập nhật ELSE Loại dự án#917 END AS Loại dự án#1026, Mô tả#918, Ngày đăng#919, Thành phố#920, Trạng thái#921, Tên dự án#922, Tổng vốn đầu tư#923, Xếp hạng#924, _id#925, Đường#926]\n",
      "                        +- Project [Chủ đầu tư#1000, CASE WHEN (Diện tích:#916 = unknown) THEN chưa cập nhật WHEN (Diện tích:#916 = ) THEN chưa cập nhật ELSE Diện tích:#916 END AS Diện tích:#1013, Loại dự án#917, Mô tả#918, Ngày đăng#919, Thành phố#920, Trạng thái#921, Tên dự án#922, Tổng vốn đầu tư#923, Xếp hạng#924, _id#925, Đường#926]\n",
      "                           +- Project [CASE WHEN (Chủ đầu tư#915 = unknown) THEN chưa cập nhật WHEN (Chủ đầu tư#915 = ) THEN chưa cập nhật ELSE Chủ đầu tư#915 END AS Chủ đầu tư#1000, Diện tích:#916, Loại dự án#917, Mô tả#918, Ngày đăng#919, Thành phố#920, Trạng thái#921, Tên dự án#922, Tổng vốn đầu tư#923, Xếp hạng#924, _id#925, Đường#926]\n",
      "                              +- Relation [Chủ đầu tư#915,Diện tích:#916,Loại dự án#917,Mô tả#918,Ngày đăng#919,Thành phố#920,Trạng thái#921,Tên dự án#922,Tổng vốn đầu tư#923,Xếp hạng#924,_id#925,Đường#926] MongoRelation(MongoRDD[60] at RDD at MongoRDD.scala:51,Some(StructType(StructField(Chủ đầu tư,StringType,true),StructField(Diện tích:,StringType,true),StructField(Loại dự án,StringType,true),StructField(Mô tả,StringType,true),StructField(Ngày đăng,StringType,true),StructField(Thành phố,StringType,true),StructField(Trạng thái,StringType,true),StructField(Tên dự án,StringType,true),StructField(Tổng vốn đầu tư,StringType,true),StructField(Xếp hạng,StringType,true),StructField(_id,StructType(StructField(oid,StringType,true)),true),StructField(Đường,StringType,true))))\n",
      "\n",
      "Processed column: Đường\n",
      "+--------------------+-------------+------------------+--------------------+--------------------+--------------------+-----------+--------------------+-----------------+--------+--------------------+--------------------+\n",
      "|          Chủ đầu tư|   Diện tích:|        Loại dự án|               Mô tả|           Ngày đăng|           Thành phố| Trạng thái|           Tên dự án|  Tổng vốn đầu tư|Xếp hạng|                 _id|               Đường|\n",
      "+--------------------+-------------+------------------+--------------------+--------------------+--------------------+-----------+--------------------+-----------------+--------+--------------------+--------------------+\n",
      "|Công Ty Cổ Phần B...|      8.200m2|     Đất Nền Dự Án|The Long Eyes là ...|Cập nhật: 12/09/2...|           Trảng Bom|Đang mở bán|The Long Eyes: Dự...|    chưa cập nhật|     5.0|{66f8f9c98ac17558...|   đường Sông Thao 5|\n",
      "|Công ty Cổ phần Đ...|   33.540,7m2|   Căn hộ chung cư|Golden City là că...|Cập nhật: 25/09/2...|        TP. Tây Ninh|Đang mở bán|Golden City: Dự á...|hơn 2.200 tỷ đồng|       0|{66f8f9cb8ac17558...|số 6 đường Hồ Văn...|\n",
      "|Công ty TNHH MTV ...|     12.389m2|   Căn hộ chung cư|Setia Gardens Res...|Cập nhật: 13/09/2...| mặt tiền Quốc lộ 13|Đang mở bán|Setia Gardens Res...|    chưa cập nhật|       0|{66f8f9cd8ac17558...| Khu đô thị Eco Xuân|\n",
      "|Công ty Cổ phần T...|       30,5ha|Nhà Phố - Biệt Thự|Sun Festival Aven...|Cập nhật: 16/09/2...|        TP. Phú Quốc|Đang mở bán|Dự án Sun Festiva...|    chưa cập nhật|       0|{66f8f9d08ac17558...|        đảo Hòn Thơm|\n",
      "|Tập đoàn Vingroup...|chưa cập nhật|Nhà Phố - Biệt Thự|Phân khu Miyabi l...|Cập nhật: 18/09/2...|         Thủy Nguyên|Đang mở bán|Phân khu Miyabi –...|    chưa cập nhật|     5.0|{66f8f9d28ac17558...|    thuộc Đảo Vũ Yên|\n",
      "|Công ty cổ phần b...|     50.850m2|   Căn hộ chung cư|Noble Crystal Tây...|Cập nhật: 19/09/2...|Khu đô thị Quốc t...|Đang mở bán|Dự án Noble Cryst...|   12.286 tỷ đồng|       0|{66f8f9d48ac17558...|         Lô đất CT01|\n",
      "|Công ty TNHH Bất ...|        2,3ha|Nhà Phố - Biệt Thự|Cát Tường J-Home ...|Cập nhật: 23/09/2...|        TP. Thuận An|Đang mở bán|Cát Tường J-Home ...|    chưa cập nhật|       0|{66f8f9d78ac17558...|               DT743|\n",
      "|   Tập đoàn Sunshine|        2,7ha|Nhà Phố - Biệt Thự|Noble Palace Long...|Cập nhật: 24/09/2...|      quận Long Biên|Đang mở bán|Noble Palace Long...|    3.000 tỷ đồng|       0|{66f8f9d98ac17558...|    phường Việt Hưng|\n",
      "|   Tập đoàn Sunshine|        1,7ha|   Căn hộ chung cư|Noble Crystal Lon...|Cập nhật: 27/09/2...|           Long Biên|Đang mở bán|Dự án Noble Cryst...|    8.800 tỷ đồng|       0|{66f8f9dc8ac17558...|đường Vũ Đức T...|\n",
      "|   Tập đoàn Sunshine|       10,1ha|Nhà Phố - Biệt Thự|Noble Palace Tây ...|Cập nhật: 27/09/2...|              Tây Hồ|Đang mở bán|Tổ hợp biệt thự, ...|    chưa cập nhật|       0|{66f8f9de8ac17558...|khu đô thị Ciputr...|\n",
      "|Công ty Cổ phần Đ...|chưa cập nhật|   Căn hộ chung cư|Phú Đông Sky Gard...|Cập nhật: 11/09/2...|           TP. Dĩ An|Đang mở bán|Căn hộ Phú Đông S...|    chưa cập nhật|     4.3|{66f8f9e18ac17558...|       đường An Bình|\n",
      "|Công ty Cổ phần Đ...|     5.615 m2|   Căn hộ chung cư|Phú Đông Sky One ...|Cập nhật: 11/09/2...|           TP. Dĩ An|Đang mở bán|Phú Đông Sky One:...|    chưa cập nhật|       0|{66f8f9e38ac17558...|       đường DT 743C|\n",
      "|Gamuda Land Việt Nam|    36.800 m2|   Căn hộ chung cư|Dự án tổ hợp căn ...|Cập nhật: 11/09/2...|Quận 2 - TP. Thủ Đức|Đang mở bán|Eaton Park: Dự án...|   26.000 tỷ đồng|       0|{66f8f9e48ac17558...|  Đại lộ Mai Chí Thọ|\n",
      "|Công ty Cổ phần P...|      101,4ha|        Khu Đô Thị|LA Home có vị trí...|Cập nhật: 11/09/2...|             Long An|Đang mở bán|LA Home: Dự án Kh...|    2.936 tỷ đồng|       0|{66f8f9e68ac17558...|             Bến Lức|\n",
      "|Công ty Cổ phần T...|   14.187,8m2|   Căn hộ chung cư|Dự án HQC Tân Hươ...|Cập nhật: 11/09/2...|          Châu Thành|Đang mở bán|HQC Tân Hương: Dự...|      530 tỷ đồng|       0|{66f8f9ec8ac17558...|         đường số 14|\n",
      "|Công ty TNHH Asia...|chưa cập nhật|   Căn hộ chung cư|Nam Ô Discovery l...|Cập nhật: 09/09/2...|     quận Liên Chiểu|Đang mở bán|Nam Ô Discovery: ...|    chưa cập nhật|       0|{66f8f9ef8ac17558...|mặt tiền đường Ng...|\n",
      "|Công ty Cổ phần T...|        1,1ha|Nhà Phố - Biệt Thự|The Lagom Phú Quố...|Cập nhật: 23/08/2...|        TP. Phú Quốc|Đang mở bán|The Lagom: Dự án ...|    chưa cập nhật|       0|{66f8f9f28ac17558...|Khu phức hợp du l...|\n",
      "|Công ty Cổ phần K...|      8.660m2|        Khu Đô Thị|Uni Complex là dự...|Cập nhật: 24/08/2...|     TP. Thủ Dầu Một|Đang mở bán|Khu phố thương mạ...|      631 tỷ đồng|       0|{66f8f9f48ac17558...|góc đường An Dươn...|\n",
      "|Công ty Cổ phần D...|       7,26ha|        Khu Đô Thị|The Centric là tổ...|Cập nhật: 12/09/2...|         Thủy Nguyên|Đang mở bán|The Centric: Tổ h...| gần 1.323 tỷ đồg|       0|{66f8f9f68ac17558...|       đường Đỗ Mười|\n",
      "|Công ty TNHH Syca...|        1,1ha|   Căn hộ chung cư|The Orchard Hill ...|Cập nhật: 05/09/2...|       phường Phú Mỹ|Đang mở bán|The Orchard Hill:...|    chưa cập nhật|     5.0|{66f8f9f98ac17558...|mặt tiền đường Hù...|\n",
      "+--------------------+-------------+------------------+--------------------+--------------------+--------------------+-----------+--------------------+-----------------+--------+--------------------+--------------------+\n",
      "only showing top 20 rows\n",
      "\n"
     ]
    }
   ],
   "source": [
    "from pyspark.sql import SparkSession\n",
    "from pyspark.sql import functions as F\n",
    "\n",
    "# Khởi tạo SparkSession\n",
    "spark = SparkSession.builder.appName(\"Example\").getOrCreate()\n",
    "\n",
    "\n",
    "\n",
    "# Thay thế giá trị 'unknown' và chuỗi rỗng trong tất cả các cột\n",
    "for column in df.columns:\n",
    "    if column in df.columns:  # Kiểm tra xem cột có tồn tại trong DataFrame không\n",
    "        try:\n",
    "            df = df.withColumn(column, \n",
    "                               F.when(F.col(column) == 'unknown', 'chưa cập nhật')\n",
    "                                .when(F.col(column) == '', 'chưa cập nhật')\n",
    "                                .otherwise(F.col(column)))\n",
    "            print(f\"Processed column: {column}\")  # In ra cột đã xử lý\n",
    "        except Exception as e:\n",
    "            print(f\"Error processing column {column}: {e}\")  # In ra lỗi nếu có\n",
    "\n",
    "# Kiểm tra dữ liệu sau khi thay thế\n",
    "df.show()\n"
   ]
  },
  {
   "cell_type": "code",
   "execution_count": 28,
   "metadata": {},
   "outputs": [
    {
     "name": "stdout",
     "output_type": "stream",
     "text": [
      "+--------------------+-------------+------------------+--------------------+--------------------+--------------------+-----------+--------------------+-----------------+--------+--------------------+--------------------+\n",
      "|          Chủ đầu tư|   Diện tích:|        Loại dự án|               Mô tả|           Ngày đăng|           Thành phố| Trạng thái|           Tên dự án|  Tổng vốn đầu tư|Xếp hạng|                 _id|               Đường|\n",
      "+--------------------+-------------+------------------+--------------------+--------------------+--------------------+-----------+--------------------+-----------------+--------+--------------------+--------------------+\n",
      "|Công Ty Cổ Phần B...|      8.200m2|     Đất Nền Dự Án|The Long Eyes là ...|Cập nhật: 12/09/2...|           Trảng Bom|Đang mở bán|The Long Eyes: Dự...|    chưa cập nhật|     5.0|{66f8f9c98ac17558...|   đường Sông Thao 5|\n",
      "|Công ty Cổ phần Đ...|   33.540,7m2|   Căn hộ chung cư|Golden City là că...|Cập nhật: 25/09/2...|        TP. Tây Ninh|Đang mở bán|Golden City: Dự á...|hơn 2.200 tỷ đồng|       0|{66f8f9cb8ac17558...|số 6 đường Hồ Văn...|\n",
      "|Công ty TNHH MTV ...|     12.389m2|   Căn hộ chung cư|Setia Gardens Res...|Cập nhật: 13/09/2...| mặt tiền Quốc lộ 13|Đang mở bán|Setia Gardens Res...|    chưa cập nhật|       0|{66f8f9cd8ac17558...| Khu đô thị Eco Xuân|\n",
      "|Công ty Cổ phần T...|       30,5ha|Nhà Phố - Biệt Thự|Sun Festival Aven...|Cập nhật: 16/09/2...|        TP. Phú Quốc|Đang mở bán|Dự án Sun Festiva...|    chưa cập nhật|       0|{66f8f9d08ac17558...|        đảo Hòn Thơm|\n",
      "|Tập đoàn Vingroup...|chưa cập nhật|Nhà Phố - Biệt Thự|Phân khu Miyabi l...|Cập nhật: 18/09/2...|         Thủy Nguyên|Đang mở bán|Phân khu Miyabi –...|    chưa cập nhật|     5.0|{66f8f9d28ac17558...|    thuộc Đảo Vũ Yên|\n",
      "|Công ty cổ phần b...|     50.850m2|   Căn hộ chung cư|Noble Crystal Tây...|Cập nhật: 19/09/2...|Khu đô thị Quốc t...|Đang mở bán|Dự án Noble Cryst...|   12.286 tỷ đồng|       0|{66f8f9d48ac17558...|         Lô đất CT01|\n",
      "|Công ty TNHH Bất ...|        2,3ha|Nhà Phố - Biệt Thự|Cát Tường J-Home ...|Cập nhật: 23/09/2...|        TP. Thuận An|Đang mở bán|Cát Tường J-Home ...|    chưa cập nhật|       0|{66f8f9d78ac17558...|               DT743|\n",
      "|   Tập đoàn Sunshine|        2,7ha|Nhà Phố - Biệt Thự|Noble Palace Long...|Cập nhật: 24/09/2...|      quận Long Biên|Đang mở bán|Noble Palace Long...|    3.000 tỷ đồng|       0|{66f8f9d98ac17558...|    phường Việt Hưng|\n",
      "|   Tập đoàn Sunshine|        1,7ha|   Căn hộ chung cư|Noble Crystal Lon...|Cập nhật: 27/09/2...|           Long Biên|Đang mở bán|Dự án Noble Cryst...|    8.800 tỷ đồng|       0|{66f8f9dc8ac17558...|đường Vũ Đức T...|\n",
      "|   Tập đoàn Sunshine|       10,1ha|Nhà Phố - Biệt Thự|Noble Palace Tây ...|Cập nhật: 27/09/2...|              Tây Hồ|Đang mở bán|Tổ hợp biệt thự, ...|    chưa cập nhật|       0|{66f8f9de8ac17558...|khu đô thị Ciputr...|\n",
      "|Công ty Cổ phần Đ...|chưa cập nhật|   Căn hộ chung cư|Phú Đông Sky Gard...|Cập nhật: 11/09/2...|           TP. Dĩ An|Đang mở bán|Căn hộ Phú Đông S...|    chưa cập nhật|     4.3|{66f8f9e18ac17558...|       đường An Bình|\n",
      "|Công ty Cổ phần Đ...|     5.615 m2|   Căn hộ chung cư|Phú Đông Sky One ...|Cập nhật: 11/09/2...|           TP. Dĩ An|Đang mở bán|Phú Đông Sky One:...|    chưa cập nhật|       0|{66f8f9e38ac17558...|       đường DT 743C|\n",
      "|Gamuda Land Việt Nam|    36.800 m2|   Căn hộ chung cư|Dự án tổ hợp căn ...|Cập nhật: 11/09/2...|Quận 2 - TP. Thủ Đức|Đang mở bán|Eaton Park: Dự án...|   26.000 tỷ đồng|       0|{66f8f9e48ac17558...|  Đại lộ Mai Chí Thọ|\n",
      "|Công ty Cổ phần P...|      101,4ha|        Khu Đô Thị|LA Home có vị trí...|Cập nhật: 11/09/2...|             Long An|Đang mở bán|LA Home: Dự án Kh...|    2.936 tỷ đồng|       0|{66f8f9e68ac17558...|             Bến Lức|\n",
      "|Công ty Cổ phần T...|   14.187,8m2|   Căn hộ chung cư|Dự án HQC Tân Hươ...|Cập nhật: 11/09/2...|          Châu Thành|Đang mở bán|HQC Tân Hương: Dự...|      530 tỷ đồng|       0|{66f8f9ec8ac17558...|         đường số 14|\n",
      "|Công ty TNHH Asia...|chưa cập nhật|   Căn hộ chung cư|Nam Ô Discovery l...|Cập nhật: 09/09/2...|     quận Liên Chiểu|Đang mở bán|Nam Ô Discovery: ...|    chưa cập nhật|       0|{66f8f9ef8ac17558...|mặt tiền đường Ng...|\n",
      "|Công ty Cổ phần T...|        1,1ha|Nhà Phố - Biệt Thự|The Lagom Phú Quố...|Cập nhật: 23/08/2...|        TP. Phú Quốc|Đang mở bán|The Lagom: Dự án ...|    chưa cập nhật|       0|{66f8f9f28ac17558...|Khu phức hợp du l...|\n",
      "|Công ty Cổ phần K...|      8.660m2|        Khu Đô Thị|Uni Complex là dự...|Cập nhật: 24/08/2...|     TP. Thủ Dầu Một|Đang mở bán|Khu phố thương mạ...|      631 tỷ đồng|       0|{66f8f9f48ac17558...|góc đường An Dươn...|\n",
      "|Công ty Cổ phần D...|       7,26ha|        Khu Đô Thị|The Centric là tổ...|Cập nhật: 12/09/2...|         Thủy Nguyên|Đang mở bán|The Centric: Tổ h...| gần 1.323 tỷ đồg|       0|{66f8f9f68ac17558...|       đường Đỗ Mười|\n",
      "|Công ty TNHH Syca...|        1,1ha|   Căn hộ chung cư|The Orchard Hill ...|Cập nhật: 05/09/2...|       phường Phú Mỹ|Đang mở bán|The Orchard Hill:...|    chưa cập nhật|     5.0|{66f8f9f98ac17558...|mặt tiền đường Hù...|\n",
      "+--------------------+-------------+------------------+--------------------+--------------------+--------------------+-----------+--------------------+-----------------+--------+--------------------+--------------------+\n",
      "only showing top 20 rows\n",
      "\n"
     ]
    }
   ],
   "source": [
    "#Xem kiểu dl các cột\n",
    "df.show()"
   ]
  },
  {
   "cell_type": "code",
   "execution_count": 29,
   "metadata": {},
   "outputs": [],
   "source": [
    "from pyspark.sql.functions import col, regexp_replace\n",
    "# Loại bỏ chuỗi 'Cập nhật:' trong cột 'Ngày đăng'\n",
    "df = df.withColumn(\"Ngày đăng\", regexp_replace(col(\"Ngày đăng\"), \"Cập nhật:\", \"\"))"
   ]
  },
  {
   "cell_type": "code",
   "execution_count": 30,
   "metadata": {},
   "outputs": [
    {
     "name": "stdout",
     "output_type": "stream",
     "text": [
      "+--------------------+-------------+------------------+--------------------+--------------------+--------------------+-----------+--------------------+-----------------+--------+--------------------+--------------------+\n",
      "|          Chủ đầu tư|   Diện tích:|        Loại dự án|               Mô tả|           Ngày đăng|           Thành phố| Trạng thái|           Tên dự án|  Tổng vốn đầu tư|Xếp hạng|                 _id|               Đường|\n",
      "+--------------------+-------------+------------------+--------------------+--------------------+--------------------+-----------+--------------------+-----------------+--------+--------------------+--------------------+\n",
      "|Công Ty Cổ Phần B...|      8.200m2|     Đất Nền Dự Án|The Long Eyes là ...|  12/09/2024 8:49 AM|           Trảng Bom|Đang mở bán|The Long Eyes: Dự...|    chưa cập nhật|     5.0|{66f8f9c98ac17558...|   đường Sông Thao 5|\n",
      "|Công ty Cổ phần Đ...|   33.540,7m2|   Căn hộ chung cư|Golden City là că...|  25/09/2024 9:05 AM|        TP. Tây Ninh|Đang mở bán|Golden City: Dự á...|hơn 2.200 tỷ đồng|       0|{66f8f9cb8ac17558...|số 6 đường Hồ Văn...|\n",
      "|Công ty TNHH MTV ...|     12.389m2|   Căn hộ chung cư|Setia Gardens Res...|  13/09/2024 1:37 PM| mặt tiền Quốc lộ 13|Đang mở bán|Setia Gardens Res...|    chưa cập nhật|       0|{66f8f9cd8ac17558...| Khu đô thị Eco Xuân|\n",
      "|Công ty Cổ phần T...|       30,5ha|Nhà Phố - Biệt Thự|Sun Festival Aven...|  16/09/2024 8:47 PM|        TP. Phú Quốc|Đang mở bán|Dự án Sun Festiva...|    chưa cập nhật|       0|{66f8f9d08ac17558...|        đảo Hòn Thơm|\n",
      "|Tập đoàn Vingroup...|chưa cập nhật|Nhà Phố - Biệt Thự|Phân khu Miyabi l...| 18/09/2024 12:48 PM|         Thủy Nguyên|Đang mở bán|Phân khu Miyabi –...|    chưa cập nhật|     5.0|{66f8f9d28ac17558...|    thuộc Đảo Vũ Yên|\n",
      "|Công ty cổ phần b...|     50.850m2|   Căn hộ chung cư|Noble Crystal Tây...|  19/09/2024 2:15 PM|Khu đô thị Quốc t...|Đang mở bán|Dự án Noble Cryst...|   12.286 tỷ đồng|       0|{66f8f9d48ac17558...|         Lô đất CT01|\n",
      "|Công ty TNHH Bất ...|        2,3ha|Nhà Phố - Biệt Thự|Cát Tường J-Home ...|  23/09/2024 4:03 PM|        TP. Thuận An|Đang mở bán|Cát Tường J-Home ...|    chưa cập nhật|       0|{66f8f9d78ac17558...|               DT743|\n",
      "|   Tập đoàn Sunshine|        2,7ha|Nhà Phố - Biệt Thự|Noble Palace Long...|  24/09/2024 3:39 PM|      quận Long Biên|Đang mở bán|Noble Palace Long...|    3.000 tỷ đồng|       0|{66f8f9d98ac17558...|    phường Việt Hưng|\n",
      "|   Tập đoàn Sunshine|        1,7ha|   Căn hộ chung cư|Noble Crystal Lon...|  27/09/2024 3:17 PM|           Long Biên|Đang mở bán|Dự án Noble Cryst...|    8.800 tỷ đồng|       0|{66f8f9dc8ac17558...|đường Vũ Đức T...|\n",
      "|   Tập đoàn Sunshine|       10,1ha|Nhà Phố - Biệt Thự|Noble Palace Tây ...|  27/09/2024 6:13 PM|              Tây Hồ|Đang mở bán|Tổ hợp biệt thự, ...|    chưa cập nhật|       0|{66f8f9de8ac17558...|khu đô thị Ciputr...|\n",
      "|Công ty Cổ phần Đ...|chưa cập nhật|   Căn hộ chung cư|Phú Đông Sky Gard...|  11/09/2024 1:22 PM|           TP. Dĩ An|Đang mở bán|Căn hộ Phú Đông S...|    chưa cập nhật|     4.3|{66f8f9e18ac17558...|       đường An Bình|\n",
      "|Công ty Cổ phần Đ...|     5.615 m2|   Căn hộ chung cư|Phú Đông Sky One ...|  11/09/2024 1:19 PM|           TP. Dĩ An|Đang mở bán|Phú Đông Sky One:...|    chưa cập nhật|       0|{66f8f9e38ac17558...|       đường DT 743C|\n",
      "|Gamuda Land Việt Nam|    36.800 m2|   Căn hộ chung cư|Dự án tổ hợp căn ...|  11/09/2024 1:23 PM|Quận 2 - TP. Thủ Đức|Đang mở bán|Eaton Park: Dự án...|   26.000 tỷ đồng|       0|{66f8f9e48ac17558...|  Đại lộ Mai Chí Thọ|\n",
      "|Công ty Cổ phần P...|      101,4ha|        Khu Đô Thị|LA Home có vị trí...|  11/09/2024 1:26 PM|             Long An|Đang mở bán|LA Home: Dự án Kh...|    2.936 tỷ đồng|       0|{66f8f9e68ac17558...|             Bến Lức|\n",
      "|Công ty Cổ phần T...|   14.187,8m2|   Căn hộ chung cư|Dự án HQC Tân Hươ...| 11/09/2024 12:00 PM|          Châu Thành|Đang mở bán|HQC Tân Hương: Dự...|      530 tỷ đồng|       0|{66f8f9ec8ac17558...|         đường số 14|\n",
      "|Công ty TNHH Asia...|chưa cập nhật|   Căn hộ chung cư|Nam Ô Discovery l...|  09/09/2024 3:01 PM|     quận Liên Chiểu|Đang mở bán|Nam Ô Discovery: ...|    chưa cập nhật|       0|{66f8f9ef8ac17558...|mặt tiền đường Ng...|\n",
      "|Công ty Cổ phần T...|        1,1ha|Nhà Phố - Biệt Thự|The Lagom Phú Quố...|  23/08/2024 2:15 PM|        TP. Phú Quốc|Đang mở bán|The Lagom: Dự án ...|    chưa cập nhật|       0|{66f8f9f28ac17558...|Khu phức hợp du l...|\n",
      "|Công ty Cổ phần K...|      8.660m2|        Khu Đô Thị|Uni Complex là dự...|  24/08/2024 6:32 PM|     TP. Thủ Dầu Một|Đang mở bán|Khu phố thương mạ...|      631 tỷ đồng|       0|{66f8f9f48ac17558...|góc đường An Dươn...|\n",
      "|Công ty Cổ phần D...|       7,26ha|        Khu Đô Thị|The Centric là tổ...| 12/09/2024 10:02 AM|         Thủy Nguyên|Đang mở bán|The Centric: Tổ h...| gần 1.323 tỷ đồg|       0|{66f8f9f68ac17558...|       đường Đỗ Mười|\n",
      "|Công ty TNHH Syca...|        1,1ha|   Căn hộ chung cư|The Orchard Hill ...|  05/09/2024 5:28 PM|       phường Phú Mỹ|Đang mở bán|The Orchard Hill:...|    chưa cập nhật|     5.0|{66f8f9f98ac17558...|mặt tiền đường Hù...|\n",
      "+--------------------+-------------+------------------+--------------------+--------------------+--------------------+-----------+--------------------+-----------------+--------+--------------------+--------------------+\n",
      "only showing top 20 rows\n",
      "\n"
     ]
    }
   ],
   "source": [
    "#Xem kiểu dl các cột\n",
    "df.show()"
   ]
  },
  {
   "cell_type": "code",
   "execution_count": 31,
   "metadata": {},
   "outputs": [],
   "source": [
    "# Xóa bỏ dấu chấm ở các dòng m2\n",
    "df = df.withColumn(\"Diện tích:\", regexp_replace(col(\"Diện tích:\"), \"\\\\.\", \"\"))\n",
    "\n",
    "# Đổi dấu phẩy ở dòng có chứa 'ha' thành dấu chấm\n",
    "df = df.withColumn(\"Diện tích:\", regexp_replace(col(\"Diện tích:\"), \",\", \".\"))"
   ]
  },
  {
   "cell_type": "code",
   "execution_count": 32,
   "metadata": {},
   "outputs": [],
   "source": [
    "from pyspark.sql.functions import col, when, regexp_extract\n",
    "# Chuyển đổi giá trị diện tích, nhân với 10.000 nếu có 'ha'\n",
    "df = df.withColumn(\n",
    "    \"Diện tích:\",\n",
    "    when(\n",
    "        col(\"Diện tích:\") == \"chưa cập nhật\",  # Giữ nguyên nếu giá trị là \"chưa cập nhật\"\n",
    "        \"chưa cập nhật\"\n",
    "    ).otherwise(\n",
    "        when(\n",
    "            col(\"Diện tích:\").contains(\"ha\"),\n",
    "            regexp_extract(col(\"Diện tích:\"), \"([\\\\d.]+)\", 1).cast(\"float\") * 10000  # Nhân với 10.000 nếu có 'ha'\n",
    "        ).otherwise(\n",
    "            regexp_extract(col(\"Diện tích:\"), \"([\\\\d.]+)\", 1).cast(\"float\")  # Chuyển đổi giá trị m2\n",
    "        )\n",
    "    )\n",
    ")\n",
    "# Đổi tên cột thành \"Diện tích(m²)\"\n",
    "df = df.withColumnRenamed(\"Diện tích:\", \"Diện tích(m²)\")"
   ]
  },
  {
   "cell_type": "code",
   "execution_count": 33,
   "metadata": {},
   "outputs": [],
   "source": [
    "# Xóa bỏ chữ 'ha' và 'm2'\n",
    "df = df.withColumn(\"Diện tích(m²)\", regexp_replace(col(\"Diện tích(m²)\"), \"ha|m2\", \"\"))"
   ]
  },
  {
   "cell_type": "code",
   "execution_count": 34,
   "metadata": {},
   "outputs": [
    {
     "name": "stdout",
     "output_type": "stream",
     "text": [
      "+--------------------+-------------+------------------+--------------------+--------------------+--------------------+-----------+--------------------+-----------------+--------+--------------------+--------------------+\n",
      "|          Chủ đầu tư|Diện tích(m²)|        Loại dự án|               Mô tả|           Ngày đăng|           Thành phố| Trạng thái|           Tên dự án|  Tổng vốn đầu tư|Xếp hạng|                 _id|               Đường|\n",
      "+--------------------+-------------+------------------+--------------------+--------------------+--------------------+-----------+--------------------+-----------------+--------+--------------------+--------------------+\n",
      "|Công Ty Cổ Phần B...|       8200.0|     Đất Nền Dự Án|The Long Eyes là ...|  12/09/2024 8:49 AM|           Trảng Bom|Đang mở bán|The Long Eyes: Dự...|    chưa cập nhật|     5.0|{66f8f9c98ac17558...|   đường Sông Thao 5|\n",
      "|Công ty Cổ phần Đ...|      33540.7|   Căn hộ chung cư|Golden City là că...|  25/09/2024 9:05 AM|        TP. Tây Ninh|Đang mở bán|Golden City: Dự á...|hơn 2.200 tỷ đồng|       0|{66f8f9cb8ac17558...|số 6 đường Hồ Văn...|\n",
      "|Công ty TNHH MTV ...|      12389.0|   Căn hộ chung cư|Setia Gardens Res...|  13/09/2024 1:37 PM| mặt tiền Quốc lộ 13|Đang mở bán|Setia Gardens Res...|    chưa cập nhật|       0|{66f8f9cd8ac17558...| Khu đô thị Eco Xuân|\n",
      "|Công ty Cổ phần T...|     305000.0|Nhà Phố - Biệt Thự|Sun Festival Aven...|  16/09/2024 8:47 PM|        TP. Phú Quốc|Đang mở bán|Dự án Sun Festiva...|    chưa cập nhật|       0|{66f8f9d08ac17558...|        đảo Hòn Thơm|\n",
      "|Tập đoàn Vingroup...|chưa cập nhật|Nhà Phố - Biệt Thự|Phân khu Miyabi l...| 18/09/2024 12:48 PM|         Thủy Nguyên|Đang mở bán|Phân khu Miyabi –...|    chưa cập nhật|     5.0|{66f8f9d28ac17558...|    thuộc Đảo Vũ Yên|\n",
      "|Công ty cổ phần b...|      50850.0|   Căn hộ chung cư|Noble Crystal Tây...|  19/09/2024 2:15 PM|Khu đô thị Quốc t...|Đang mở bán|Dự án Noble Cryst...|   12.286 tỷ đồng|       0|{66f8f9d48ac17558...|         Lô đất CT01|\n",
      "|Công ty TNHH Bất ...|      23000.0|Nhà Phố - Biệt Thự|Cát Tường J-Home ...|  23/09/2024 4:03 PM|        TP. Thuận An|Đang mở bán|Cát Tường J-Home ...|    chưa cập nhật|       0|{66f8f9d78ac17558...|               DT743|\n",
      "|   Tập đoàn Sunshine|      27000.0|Nhà Phố - Biệt Thự|Noble Palace Long...|  24/09/2024 3:39 PM|      quận Long Biên|Đang mở bán|Noble Palace Long...|    3.000 tỷ đồng|       0|{66f8f9d98ac17558...|    phường Việt Hưng|\n",
      "|   Tập đoàn Sunshine|      17000.0|   Căn hộ chung cư|Noble Crystal Lon...|  27/09/2024 3:17 PM|           Long Biên|Đang mở bán|Dự án Noble Cryst...|    8.800 tỷ đồng|       0|{66f8f9dc8ac17558...|đường Vũ Đức T...|\n",
      "|   Tập đoàn Sunshine|     101000.0|Nhà Phố - Biệt Thự|Noble Palace Tây ...|  27/09/2024 6:13 PM|              Tây Hồ|Đang mở bán|Tổ hợp biệt thự, ...|    chưa cập nhật|       0|{66f8f9de8ac17558...|khu đô thị Ciputr...|\n",
      "|Công ty Cổ phần Đ...|chưa cập nhật|   Căn hộ chung cư|Phú Đông Sky Gard...|  11/09/2024 1:22 PM|           TP. Dĩ An|Đang mở bán|Căn hộ Phú Đông S...|    chưa cập nhật|     4.3|{66f8f9e18ac17558...|       đường An Bình|\n",
      "|Công ty Cổ phần Đ...|       5615.0|   Căn hộ chung cư|Phú Đông Sky One ...|  11/09/2024 1:19 PM|           TP. Dĩ An|Đang mở bán|Phú Đông Sky One:...|    chưa cập nhật|       0|{66f8f9e38ac17558...|       đường DT 743C|\n",
      "|Gamuda Land Việt Nam|      36800.0|   Căn hộ chung cư|Dự án tổ hợp căn ...|  11/09/2024 1:23 PM|Quận 2 - TP. Thủ Đức|Đang mở bán|Eaton Park: Dự án...|   26.000 tỷ đồng|       0|{66f8f9e48ac17558...|  Đại lộ Mai Chí Thọ|\n",
      "|Công ty Cổ phần P...|    1014000.0|        Khu Đô Thị|LA Home có vị trí...|  11/09/2024 1:26 PM|             Long An|Đang mở bán|LA Home: Dự án Kh...|    2.936 tỷ đồng|       0|{66f8f9e68ac17558...|             Bến Lức|\n",
      "|Công ty Cổ phần T...|      14187.8|   Căn hộ chung cư|Dự án HQC Tân Hươ...| 11/09/2024 12:00 PM|          Châu Thành|Đang mở bán|HQC Tân Hương: Dự...|      530 tỷ đồng|       0|{66f8f9ec8ac17558...|         đường số 14|\n",
      "|Công ty TNHH Asia...|chưa cập nhật|   Căn hộ chung cư|Nam Ô Discovery l...|  09/09/2024 3:01 PM|     quận Liên Chiểu|Đang mở bán|Nam Ô Discovery: ...|    chưa cập nhật|       0|{66f8f9ef8ac17558...|mặt tiền đường Ng...|\n",
      "|Công ty Cổ phần T...|      11000.0|Nhà Phố - Biệt Thự|The Lagom Phú Quố...|  23/08/2024 2:15 PM|        TP. Phú Quốc|Đang mở bán|The Lagom: Dự án ...|    chưa cập nhật|       0|{66f8f9f28ac17558...|Khu phức hợp du l...|\n",
      "|Công ty Cổ phần K...|       8660.0|        Khu Đô Thị|Uni Complex là dự...|  24/08/2024 6:32 PM|     TP. Thủ Dầu Một|Đang mở bán|Khu phố thương mạ...|      631 tỷ đồng|       0|{66f8f9f48ac17558...|góc đường An Dươn...|\n",
      "|Công ty Cổ phần D...|      72600.0|        Khu Đô Thị|The Centric là tổ...| 12/09/2024 10:02 AM|         Thủy Nguyên|Đang mở bán|The Centric: Tổ h...| gần 1.323 tỷ đồg|       0|{66f8f9f68ac17558...|       đường Đỗ Mười|\n",
      "|Công ty TNHH Syca...|      11000.0|   Căn hộ chung cư|The Orchard Hill ...|  05/09/2024 5:28 PM|       phường Phú Mỹ|Đang mở bán|The Orchard Hill:...|    chưa cập nhật|     5.0|{66f8f9f98ac17558...|mặt tiền đường Hù...|\n",
      "+--------------------+-------------+------------------+--------------------+--------------------+--------------------+-----------+--------------------+-----------------+--------+--------------------+--------------------+\n",
      "only showing top 20 rows\n",
      "\n"
     ]
    }
   ],
   "source": [
    "#Xem kiểu dl các cột\n",
    "df.show()"
   ]
  },
  {
   "cell_type": "code",
   "execution_count": 35,
   "metadata": {},
   "outputs": [],
   "source": [
    "# Xóa bỏ dấu chấm ở các dòng \"tỷ đồng\"\n",
    "df = df.withColumn(\"Tổng vốn đầu tư\", regexp_replace(col(\"Tổng vốn đầu tư\"), \"\\\\.\", \"\"))\n",
    "\n",
    "# Đổi dấu phẩy ở dòng có chứa 'USD' thành dấu chấm\n",
    "df = df.withColumn(\"Tổng vốn đầu tư\", regexp_replace(col(\"Tổng vốn đầu tư\"), \",\", \".\"))"
   ]
  },
  {
   "cell_type": "code",
   "execution_count": 36,
   "metadata": {},
   "outputs": [
    {
     "name": "stdout",
     "output_type": "stream",
     "text": [
      "+--------------------+-------------+------------------+--------------------+--------------------+--------------------+-----------+--------------------+------------------------+--------+--------------------+--------------------+\n",
      "|          Chủ đầu tư|Diện tích(m²)|        Loại dự án|               Mô tả|           Ngày đăng|           Thành phố| Trạng thái|           Tên dự án|Tổng vốn đầu tư(tỷ đồng)|Xếp hạng|                 _id|               Đường|\n",
      "+--------------------+-------------+------------------+--------------------+--------------------+--------------------+-----------+--------------------+------------------------+--------+--------------------+--------------------+\n",
      "|Công Ty Cổ Phần B...|       8200.0|     Đất Nền Dự Án|The Long Eyes là ...|  12/09/2024 8:49 AM|           Trảng Bom|Đang mở bán|The Long Eyes: Dự...|           chưa cập nhật|     5.0|{66f8f9c98ac17558...|   đường Sông Thao 5|\n",
      "|Công ty Cổ phần Đ...|      33540.7|   Căn hộ chung cư|Golden City là că...|  25/09/2024 9:05 AM|        TP. Tây Ninh|Đang mở bán|Golden City: Dự á...|                  2200.0|       0|{66f8f9cb8ac17558...|số 6 đường Hồ Văn...|\n",
      "|Công ty TNHH MTV ...|      12389.0|   Căn hộ chung cư|Setia Gardens Res...|  13/09/2024 1:37 PM| mặt tiền Quốc lộ 13|Đang mở bán|Setia Gardens Res...|           chưa cập nhật|       0|{66f8f9cd8ac17558...| Khu đô thị Eco Xuân|\n",
      "|Công ty Cổ phần T...|     305000.0|Nhà Phố - Biệt Thự|Sun Festival Aven...|  16/09/2024 8:47 PM|        TP. Phú Quốc|Đang mở bán|Dự án Sun Festiva...|           chưa cập nhật|       0|{66f8f9d08ac17558...|        đảo Hòn Thơm|\n",
      "|Tập đoàn Vingroup...|chưa cập nhật|Nhà Phố - Biệt Thự|Phân khu Miyabi l...| 18/09/2024 12:48 PM|         Thủy Nguyên|Đang mở bán|Phân khu Miyabi –...|           chưa cập nhật|     5.0|{66f8f9d28ac17558...|    thuộc Đảo Vũ Yên|\n",
      "|Công ty cổ phần b...|      50850.0|   Căn hộ chung cư|Noble Crystal Tây...|  19/09/2024 2:15 PM|Khu đô thị Quốc t...|Đang mở bán|Dự án Noble Cryst...|                 12286.0|       0|{66f8f9d48ac17558...|         Lô đất CT01|\n",
      "|Công ty TNHH Bất ...|      23000.0|Nhà Phố - Biệt Thự|Cát Tường J-Home ...|  23/09/2024 4:03 PM|        TP. Thuận An|Đang mở bán|Cát Tường J-Home ...|           chưa cập nhật|       0|{66f8f9d78ac17558...|               DT743|\n",
      "|   Tập đoàn Sunshine|      27000.0|Nhà Phố - Biệt Thự|Noble Palace Long...|  24/09/2024 3:39 PM|      quận Long Biên|Đang mở bán|Noble Palace Long...|                  3000.0|       0|{66f8f9d98ac17558...|    phường Việt Hưng|\n",
      "|   Tập đoàn Sunshine|      17000.0|   Căn hộ chung cư|Noble Crystal Lon...|  27/09/2024 3:17 PM|           Long Biên|Đang mở bán|Dự án Noble Cryst...|                  8800.0|       0|{66f8f9dc8ac17558...|đường Vũ Đức T...|\n",
      "|   Tập đoàn Sunshine|     101000.0|Nhà Phố - Biệt Thự|Noble Palace Tây ...|  27/09/2024 6:13 PM|              Tây Hồ|Đang mở bán|Tổ hợp biệt thự, ...|           chưa cập nhật|       0|{66f8f9de8ac17558...|khu đô thị Ciputr...|\n",
      "|Công ty Cổ phần Đ...|chưa cập nhật|   Căn hộ chung cư|Phú Đông Sky Gard...|  11/09/2024 1:22 PM|           TP. Dĩ An|Đang mở bán|Căn hộ Phú Đông S...|           chưa cập nhật|     4.3|{66f8f9e18ac17558...|       đường An Bình|\n",
      "|Công ty Cổ phần Đ...|       5615.0|   Căn hộ chung cư|Phú Đông Sky One ...|  11/09/2024 1:19 PM|           TP. Dĩ An|Đang mở bán|Phú Đông Sky One:...|           chưa cập nhật|       0|{66f8f9e38ac17558...|       đường DT 743C|\n",
      "|Gamuda Land Việt Nam|      36800.0|   Căn hộ chung cư|Dự án tổ hợp căn ...|  11/09/2024 1:23 PM|Quận 2 - TP. Thủ Đức|Đang mở bán|Eaton Park: Dự án...|                 26000.0|       0|{66f8f9e48ac17558...|  Đại lộ Mai Chí Thọ|\n",
      "|Công ty Cổ phần P...|    1014000.0|        Khu Đô Thị|LA Home có vị trí...|  11/09/2024 1:26 PM|             Long An|Đang mở bán|LA Home: Dự án Kh...|                  2936.0|       0|{66f8f9e68ac17558...|             Bến Lức|\n",
      "|Công ty Cổ phần T...|      14187.8|   Căn hộ chung cư|Dự án HQC Tân Hươ...| 11/09/2024 12:00 PM|          Châu Thành|Đang mở bán|HQC Tân Hương: Dự...|                   530.0|       0|{66f8f9ec8ac17558...|         đường số 14|\n",
      "|Công ty TNHH Asia...|chưa cập nhật|   Căn hộ chung cư|Nam Ô Discovery l...|  09/09/2024 3:01 PM|     quận Liên Chiểu|Đang mở bán|Nam Ô Discovery: ...|           chưa cập nhật|       0|{66f8f9ef8ac17558...|mặt tiền đường Ng...|\n",
      "|Công ty Cổ phần T...|      11000.0|Nhà Phố - Biệt Thự|The Lagom Phú Quố...|  23/08/2024 2:15 PM|        TP. Phú Quốc|Đang mở bán|The Lagom: Dự án ...|           chưa cập nhật|       0|{66f8f9f28ac17558...|Khu phức hợp du l...|\n",
      "|Công ty Cổ phần K...|       8660.0|        Khu Đô Thị|Uni Complex là dự...|  24/08/2024 6:32 PM|     TP. Thủ Dầu Một|Đang mở bán|Khu phố thương mạ...|                   631.0|       0|{66f8f9f48ac17558...|góc đường An Dươn...|\n",
      "|Công ty Cổ phần D...|      72600.0|        Khu Đô Thị|The Centric là tổ...| 12/09/2024 10:02 AM|         Thủy Nguyên|Đang mở bán|The Centric: Tổ h...|                  1323.0|       0|{66f8f9f68ac17558...|       đường Đỗ Mười|\n",
      "|Công ty TNHH Syca...|      11000.0|   Căn hộ chung cư|The Orchard Hill ...|  05/09/2024 5:28 PM|       phường Phú Mỹ|Đang mở bán|The Orchard Hill:...|           chưa cập nhật|     5.0|{66f8f9f98ac17558...|mặt tiền đường Hù...|\n",
      "+--------------------+-------------+------------------+--------------------+--------------------+--------------------+-----------+--------------------+------------------------+--------+--------------------+--------------------+\n",
      "only showing top 20 rows\n",
      "\n"
     ]
    }
   ],
   "source": [
    "from pyspark.sql.functions import col, when, regexp_extract\n",
    "# Chuyển đổi giá trị diện tích, nhân với 10.000 nếu có 'ha'\n",
    "df = df.withColumn(\n",
    "    \"Tổng vốn đầu tư\",\n",
    "    when(\n",
    "        col(\"Tổng vốn đầu tư\") == \"chưa cập nhật\",  # Giữ nguyên nếu giá trị là \"chưa cập nhật\"\n",
    "        \"chưa cập nhật\"\n",
    "    ).otherwise(\n",
    "        when(\n",
    "            col(\"Tổng vốn đầu tư\").contains(\"USD\"),\n",
    "            regexp_extract(col(\"Tổng vốn đầu tư\"), \"([\\\\d.]+)\", 1).cast(\"float\") * 24  # Nhân 24 nếu có chữ triệu USD\n",
    "        ).otherwise(\n",
    "            regexp_extract(col(\"Tổng vốn đầu tư\"), \"([\\\\d.]+)\", 1).cast(\"float\")  \n",
    "        )\n",
    "    )\n",
    ")\n",
    "# Đổi tên cột thành \"Diện tích(m²)\"\n",
    "df = df.withColumnRenamed(\"Tổng vốn đầu tư\", \"Tổng vốn đầu tư(tỷ đồng)\")\n",
    "# Hiển thị dữ liệu sau khi thay đổi\n",
    "df.show()"
   ]
  },
  {
   "cell_type": "code",
   "execution_count": 37,
   "metadata": {},
   "outputs": [
    {
     "name": "stdout",
     "output_type": "stream",
     "text": [
      "+--------------------+-------------+------------------+--------------------+--------------------+--------------------+-----------+--------------------+------------------------+----------------+--------------------+--------------------+\n",
      "|          Chủ đầu tư|Diện tích(m²)|        Loại dự án|               Mô tả|           Ngày đăng|           Thành phố| Trạng thái|           Tên dự án|Tổng vốn đầu tư(tỷ đồng)|        Xếp hạng|                 _id|               Đường|\n",
      "+--------------------+-------------+------------------+--------------------+--------------------+--------------------+-----------+--------------------+------------------------+----------------+--------------------+--------------------+\n",
      "|Công Ty Cổ Phần B...|       8200.0|     Đất Nền Dự Án|The Long Eyes là ...|  12/09/2024 8:49 AM|           Trảng Bom|Đang mở bán|The Long Eyes: Dự...|           chưa cập nhật|             5.0|{66f8f9c98ac17558...|   đường Sông Thao 5|\n",
      "|Công ty Cổ phần Đ...|      33540.7|   Căn hộ chung cư|Golden City là că...|  25/09/2024 9:05 AM|        TP. Tây Ninh|Đang mở bán|Golden City: Dự á...|                  2200.0|chưa có đánh giá|{66f8f9cb8ac17558...|số 6 đường Hồ Văn...|\n",
      "|Công ty TNHH MTV ...|      12389.0|   Căn hộ chung cư|Setia Gardens Res...|  13/09/2024 1:37 PM| mặt tiền Quốc lộ 13|Đang mở bán|Setia Gardens Res...|           chưa cập nhật|chưa có đánh giá|{66f8f9cd8ac17558...| Khu đô thị Eco Xuân|\n",
      "|Công ty Cổ phần T...|     305000.0|Nhà Phố - Biệt Thự|Sun Festival Aven...|  16/09/2024 8:47 PM|        TP. Phú Quốc|Đang mở bán|Dự án Sun Festiva...|           chưa cập nhật|chưa có đánh giá|{66f8f9d08ac17558...|        đảo Hòn Thơm|\n",
      "|Tập đoàn Vingroup...|chưa cập nhật|Nhà Phố - Biệt Thự|Phân khu Miyabi l...| 18/09/2024 12:48 PM|         Thủy Nguyên|Đang mở bán|Phân khu Miyabi –...|           chưa cập nhật|             5.0|{66f8f9d28ac17558...|    thuộc Đảo Vũ Yên|\n",
      "|Công ty cổ phần b...|      50850.0|   Căn hộ chung cư|Noble Crystal Tây...|  19/09/2024 2:15 PM|Khu đô thị Quốc t...|Đang mở bán|Dự án Noble Cryst...|                 12286.0|chưa có đánh giá|{66f8f9d48ac17558...|         Lô đất CT01|\n",
      "|Công ty TNHH Bất ...|      23000.0|Nhà Phố - Biệt Thự|Cát Tường J-Home ...|  23/09/2024 4:03 PM|        TP. Thuận An|Đang mở bán|Cát Tường J-Home ...|           chưa cập nhật|chưa có đánh giá|{66f8f9d78ac17558...|               DT743|\n",
      "|   Tập đoàn Sunshine|      27000.0|Nhà Phố - Biệt Thự|Noble Palace Long...|  24/09/2024 3:39 PM|      quận Long Biên|Đang mở bán|Noble Palace Long...|                  3000.0|chưa có đánh giá|{66f8f9d98ac17558...|    phường Việt Hưng|\n",
      "|   Tập đoàn Sunshine|      17000.0|   Căn hộ chung cư|Noble Crystal Lon...|  27/09/2024 3:17 PM|           Long Biên|Đang mở bán|Dự án Noble Cryst...|                  8800.0|chưa có đánh giá|{66f8f9dc8ac17558...|đường Vũ Đức T...|\n",
      "|   Tập đoàn Sunshine|     101000.0|Nhà Phố - Biệt Thự|Noble Palace Tây ...|  27/09/2024 6:13 PM|              Tây Hồ|Đang mở bán|Tổ hợp biệt thự, ...|           chưa cập nhật|chưa có đánh giá|{66f8f9de8ac17558...|khu đô thị Ciputr...|\n",
      "|Công ty Cổ phần Đ...|chưa cập nhật|   Căn hộ chung cư|Phú Đông Sky Gard...|  11/09/2024 1:22 PM|           TP. Dĩ An|Đang mở bán|Căn hộ Phú Đông S...|           chưa cập nhật|             4.3|{66f8f9e18ac17558...|       đường An Bình|\n",
      "|Công ty Cổ phần Đ...|       5615.0|   Căn hộ chung cư|Phú Đông Sky One ...|  11/09/2024 1:19 PM|           TP. Dĩ An|Đang mở bán|Phú Đông Sky One:...|           chưa cập nhật|chưa có đánh giá|{66f8f9e38ac17558...|       đường DT 743C|\n",
      "|Gamuda Land Việt Nam|      36800.0|   Căn hộ chung cư|Dự án tổ hợp căn ...|  11/09/2024 1:23 PM|Quận 2 - TP. Thủ Đức|Đang mở bán|Eaton Park: Dự án...|                 26000.0|chưa có đánh giá|{66f8f9e48ac17558...|  Đại lộ Mai Chí Thọ|\n",
      "|Công ty Cổ phần P...|    1014000.0|        Khu Đô Thị|LA Home có vị trí...|  11/09/2024 1:26 PM|             Long An|Đang mở bán|LA Home: Dự án Kh...|                  2936.0|chưa có đánh giá|{66f8f9e68ac17558...|             Bến Lức|\n",
      "|Công ty Cổ phần T...|      14187.8|   Căn hộ chung cư|Dự án HQC Tân Hươ...| 11/09/2024 12:00 PM|          Châu Thành|Đang mở bán|HQC Tân Hương: Dự...|                   530.0|chưa có đánh giá|{66f8f9ec8ac17558...|         đường số 14|\n",
      "|Công ty TNHH Asia...|chưa cập nhật|   Căn hộ chung cư|Nam Ô Discovery l...|  09/09/2024 3:01 PM|     quận Liên Chiểu|Đang mở bán|Nam Ô Discovery: ...|           chưa cập nhật|chưa có đánh giá|{66f8f9ef8ac17558...|mặt tiền đường Ng...|\n",
      "|Công ty Cổ phần T...|      11000.0|Nhà Phố - Biệt Thự|The Lagom Phú Quố...|  23/08/2024 2:15 PM|        TP. Phú Quốc|Đang mở bán|The Lagom: Dự án ...|           chưa cập nhật|chưa có đánh giá|{66f8f9f28ac17558...|Khu phức hợp du l...|\n",
      "|Công ty Cổ phần K...|       8660.0|        Khu Đô Thị|Uni Complex là dự...|  24/08/2024 6:32 PM|     TP. Thủ Dầu Một|Đang mở bán|Khu phố thương mạ...|                   631.0|chưa có đánh giá|{66f8f9f48ac17558...|góc đường An Dươn...|\n",
      "|Công ty Cổ phần D...|      72600.0|        Khu Đô Thị|The Centric là tổ...| 12/09/2024 10:02 AM|         Thủy Nguyên|Đang mở bán|The Centric: Tổ h...|                  1323.0|chưa có đánh giá|{66f8f9f68ac17558...|       đường Đỗ Mười|\n",
      "|Công ty TNHH Syca...|      11000.0|   Căn hộ chung cư|The Orchard Hill ...|  05/09/2024 5:28 PM|       phường Phú Mỹ|Đang mở bán|The Orchard Hill:...|           chưa cập nhật|             5.0|{66f8f9f98ac17558...|mặt tiền đường Hù...|\n",
      "+--------------------+-------------+------------------+--------------------+--------------------+--------------------+-----------+--------------------+------------------------+----------------+--------------------+--------------------+\n",
      "only showing top 20 rows\n",
      "\n"
     ]
    }
   ],
   "source": [
    "# Thay thế giá trị 0 trong cột 'Xếp hạng' bằng 'chưa có đánh giá'\n",
    "df = df.withColumn(\"Xếp hạng\", when(col(\"Xếp hạng\") == '0', 'chưa có đánh giá').otherwise(col(\"Xếp hạng\")))\n",
    "# Hiển thị dữ liệu sau khi thay đổi\n",
    "df.show()"
   ]
  },
  {
   "cell_type": "code",
   "execution_count": 38,
   "metadata": {},
   "outputs": [
    {
     "name": "stdout",
     "output_type": "stream",
     "text": [
      "Các cột hiện có trong DataFrame: ['Chủ đầu tư', 'Diện tích(m²)', 'Loại dự án', 'Mô tả', 'Ngày đăng', 'Thành phố', 'Trạng thái', 'Tên dự án', 'Tổng vốn đầu tư(tỷ đồng)', 'Xếp hạng', '_id', 'Đường']\n",
      "+--------------------+------------------+--------------------+--------------------+--------------------+--------------------+-----------+-------------+--------------------+------------------------+----------------+--------------------+\n",
      "|                 _id|        Loại dự án|           Tên dự án|               Đường|           Thành phố|          Chủ đầu tư| Trạng thái|Diện tích(m²)|           Ngày đăng|Tổng vốn đầu tư(tỷ đồng)|        Xếp hạng|               Mô tả|\n",
      "+--------------------+------------------+--------------------+--------------------+--------------------+--------------------+-----------+-------------+--------------------+------------------------+----------------+--------------------+\n",
      "|{66f8f9c98ac17558...|     Đất Nền Dự Án|The Long Eyes: Dự...|   đường Sông Thao 5|           Trảng Bom|Công Ty Cổ Phần B...|Đang mở bán|       8200.0|  12/09/2024 8:49 AM|           chưa cập nhật|             5.0|The Long Eyes là ...|\n",
      "|{66f8f9cb8ac17558...|   Căn hộ chung cư|Golden City: Dự á...|số 6 đường Hồ Văn...|        TP. Tây Ninh|Công ty Cổ phần Đ...|Đang mở bán|      33540.7|  25/09/2024 9:05 AM|                  2200.0|chưa có đánh giá|Golden City là că...|\n",
      "|{66f8f9cd8ac17558...|   Căn hộ chung cư|Setia Gardens Res...| Khu đô thị Eco Xuân| mặt tiền Quốc lộ 13|Công ty TNHH MTV ...|Đang mở bán|      12389.0|  13/09/2024 1:37 PM|           chưa cập nhật|chưa có đánh giá|Setia Gardens Res...|\n",
      "|{66f8f9d08ac17558...|Nhà Phố - Biệt Thự|Dự án Sun Festiva...|        đảo Hòn Thơm|        TP. Phú Quốc|Công ty Cổ phần T...|Đang mở bán|     305000.0|  16/09/2024 8:47 PM|           chưa cập nhật|chưa có đánh giá|Sun Festival Aven...|\n",
      "|{66f8f9d28ac17558...|Nhà Phố - Biệt Thự|Phân khu Miyabi –...|    thuộc Đảo Vũ Yên|         Thủy Nguyên|Tập đoàn Vingroup...|Đang mở bán|chưa cập nhật| 18/09/2024 12:48 PM|           chưa cập nhật|             5.0|Phân khu Miyabi l...|\n",
      "|{66f8f9d48ac17558...|   Căn hộ chung cư|Dự án Noble Cryst...|         Lô đất CT01|Khu đô thị Quốc t...|Công ty cổ phần b...|Đang mở bán|      50850.0|  19/09/2024 2:15 PM|                 12286.0|chưa có đánh giá|Noble Crystal Tây...|\n",
      "|{66f8f9d78ac17558...|Nhà Phố - Biệt Thự|Cát Tường J-Home ...|               DT743|        TP. Thuận An|Công ty TNHH Bất ...|Đang mở bán|      23000.0|  23/09/2024 4:03 PM|           chưa cập nhật|chưa có đánh giá|Cát Tường J-Home ...|\n",
      "|{66f8f9d98ac17558...|Nhà Phố - Biệt Thự|Noble Palace Long...|    phường Việt Hưng|      quận Long Biên|   Tập đoàn Sunshine|Đang mở bán|      27000.0|  24/09/2024 3:39 PM|                  3000.0|chưa có đánh giá|Noble Palace Long...|\n",
      "|{66f8f9dc8ac17558...|   Căn hộ chung cư|Dự án Noble Cryst...|đường Vũ Đức T...|           Long Biên|   Tập đoàn Sunshine|Đang mở bán|      17000.0|  27/09/2024 3:17 PM|                  8800.0|chưa có đánh giá|Noble Crystal Lon...|\n",
      "|{66f8f9de8ac17558...|Nhà Phố - Biệt Thự|Tổ hợp biệt thự, ...|khu đô thị Ciputr...|              Tây Hồ|   Tập đoàn Sunshine|Đang mở bán|     101000.0|  27/09/2024 6:13 PM|           chưa cập nhật|chưa có đánh giá|Noble Palace Tây ...|\n",
      "|{66f8f9e18ac17558...|   Căn hộ chung cư|Căn hộ Phú Đông S...|       đường An Bình|           TP. Dĩ An|Công ty Cổ phần Đ...|Đang mở bán|chưa cập nhật|  11/09/2024 1:22 PM|           chưa cập nhật|             4.3|Phú Đông Sky Gard...|\n",
      "|{66f8f9e38ac17558...|   Căn hộ chung cư|Phú Đông Sky One:...|       đường DT 743C|           TP. Dĩ An|Công ty Cổ phần Đ...|Đang mở bán|       5615.0|  11/09/2024 1:19 PM|           chưa cập nhật|chưa có đánh giá|Phú Đông Sky One ...|\n",
      "|{66f8f9e48ac17558...|   Căn hộ chung cư|Eaton Park: Dự án...|  Đại lộ Mai Chí Thọ|Quận 2 - TP. Thủ Đức|Gamuda Land Việt Nam|Đang mở bán|      36800.0|  11/09/2024 1:23 PM|                 26000.0|chưa có đánh giá|Dự án tổ hợp căn ...|\n",
      "|{66f8f9e68ac17558...|        Khu Đô Thị|LA Home: Dự án Kh...|             Bến Lức|             Long An|Công ty Cổ phần P...|Đang mở bán|    1014000.0|  11/09/2024 1:26 PM|                  2936.0|chưa có đánh giá|LA Home có vị trí...|\n",
      "|{66f8f9ec8ac17558...|   Căn hộ chung cư|HQC Tân Hương: Dự...|         đường số 14|          Châu Thành|Công ty Cổ phần T...|Đang mở bán|      14187.8| 11/09/2024 12:00 PM|                   530.0|chưa có đánh giá|Dự án HQC Tân Hươ...|\n",
      "|{66f8f9ef8ac17558...|   Căn hộ chung cư|Nam Ô Discovery: ...|mặt tiền đường Ng...|     quận Liên Chiểu|Công ty TNHH Asia...|Đang mở bán|chưa cập nhật|  09/09/2024 3:01 PM|           chưa cập nhật|chưa có đánh giá|Nam Ô Discovery l...|\n",
      "|{66f8f9f28ac17558...|Nhà Phố - Biệt Thự|The Lagom: Dự án ...|Khu phức hợp du l...|        TP. Phú Quốc|Công ty Cổ phần T...|Đang mở bán|      11000.0|  23/08/2024 2:15 PM|           chưa cập nhật|chưa có đánh giá|The Lagom Phú Quố...|\n",
      "|{66f8f9f48ac17558...|        Khu Đô Thị|Khu phố thương mạ...|góc đường An Dươn...|     TP. Thủ Dầu Một|Công ty Cổ phần K...|Đang mở bán|       8660.0|  24/08/2024 6:32 PM|                   631.0|chưa có đánh giá|Uni Complex là dự...|\n",
      "|{66f8f9f68ac17558...|        Khu Đô Thị|The Centric: Tổ h...|       đường Đỗ Mười|         Thủy Nguyên|Công ty Cổ phần D...|Đang mở bán|      72600.0| 12/09/2024 10:02 AM|                  1323.0|chưa có đánh giá|The Centric là tổ...|\n",
      "|{66f8f9f98ac17558...|   Căn hộ chung cư|The Orchard Hill:...|mặt tiền đường Hù...|       phường Phú Mỹ|Công ty TNHH Syca...|Đang mở bán|      11000.0|  05/09/2024 5:28 PM|           chưa cập nhật|             5.0|The Orchard Hill ...|\n",
      "+--------------------+------------------+--------------------+--------------------+--------------------+--------------------+-----------+-------------+--------------------+------------------------+----------------+--------------------+\n",
      "only showing top 20 rows\n",
      "\n"
     ]
    }
   ],
   "source": [
    "from pyspark.sql.functions import col\n",
    "\n",
    "# Danh sách cột mong muốn\n",
    "desired_columns = [\n",
    "    \"_id\",  # Thêm cột _id vào đầu\n",
    "    \"Loại dự án\",\n",
    "    \"Tên dự án\",\n",
    "    \"Đường\",\n",
    "    \"Thành phố\",\n",
    "    \"Chủ đầu tư\",\n",
    "    \"Trạng thái\",\n",
    "    \"Diện tích(m²)\",  # Đổi tên cột này cho đầy đủ\n",
    "    \"Ngày đăng\",\n",
    "    \"Tổng vốn đầu tư(tỷ đồng)\",  # Đổi tên cột này cho đầy đủ\n",
    "    \"Xếp hạng\",\n",
    "    \"Mô tả\"\n",
    "]\n",
    "\n",
    "# Kiểm tra danh sách các cột có trong DataFrame\n",
    "existing_columns = df.columns\n",
    "print(\"Các cột hiện có trong DataFrame:\", existing_columns)\n",
    "\n",
    "# Lọc ra các cột tồn tại trong DataFrame\n",
    "valid_columns = [col for col in desired_columns if col in existing_columns]\n",
    "\n",
    "# Sắp xếp lại DataFrame theo thứ tự các cột đã lọc\n",
    "df = df.select(*valid_columns)\n",
    "\n",
    "# Hiển thị dữ liệu sau khi thay đổi\n",
    "df.show()\n"
   ]
  },
  {
   "cell_type": "code",
   "execution_count": 40,
   "metadata": {},
   "outputs": [],
   "source": [
    "from pyspark.sql import SparkSession\n",
    "from pyspark.sql.functions import col, regexp_replace, to_json, regexp_extract, when\n",
    "\n",
    "# 2. Chuyển đổi cột _id từ struct thành string\n",
    "df = df.withColumn(\"_id\", col(\"_id\").getField(\"oid\"))\n",
    "\n",
    "# 3. Ghi dữ liệu đã làm sạch vào file CSV\n",
    "df.write.csv(\"cleaned_cafeland.csv\", header=True, mode=\"overwrite\")\n",
    "\n"
   ]
  },
  {
   "cell_type": "code",
   "execution_count": 41,
   "metadata": {},
   "outputs": [],
   "source": [
    "# Dừng SparkSession\n",
    "spark.stop()"
   ]
  }
 ],
 "metadata": {
  "kernelspec": {
   "display_name": "base",
   "language": "python",
   "name": "python3"
  },
  "language_info": {
   "codemirror_mode": {
    "name": "ipython",
    "version": 3
   },
   "file_extension": ".py",
   "mimetype": "text/x-python",
   "name": "python",
   "nbconvert_exporter": "python",
   "pygments_lexer": "ipython3",
   "version": "3.11.9"
  }
 },
 "nbformat": 4,
 "nbformat_minor": 2
}
